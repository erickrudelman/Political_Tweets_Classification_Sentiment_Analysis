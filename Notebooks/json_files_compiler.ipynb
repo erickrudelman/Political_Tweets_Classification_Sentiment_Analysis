{
 "cells": [
  {
   "cell_type": "markdown",
   "id": "53b21f76-b141-4966-88cd-e94d3283addd",
   "metadata": {},
   "source": [
    "## Merge JSON file\n",
    "This notebooks has a function that merges two JSON file with the same format. After this, it merges the result with a new file that contains the same data but in a different formar.\n",
    "\n",
    "The result is a notebook compiling up to 23 tweets for 426 tweeter handles from US Democrat and Republican Senators"
   ]
  },
  {
   "cell_type": "code",
   "execution_count": 1,
   "id": "6edee870-9eb7-47a1-996d-acaa782c4393",
   "metadata": {},
   "outputs": [],
   "source": [
    "import pandas as pd\n",
    "import json"
   ]
  },
  {
   "cell_type": "code",
   "execution_count": 2,
   "id": "09d1879c-5e4a-43bc-9175-cf2267f574f6",
   "metadata": {
    "tags": []
   },
   "outputs": [],
   "source": [
    "files = ['tweets1_2.json' ,'tweets.json']"
   ]
  },
  {
   "cell_type": "code",
   "execution_count": 3,
   "id": "f9657a1b-7c19-445f-9c59-06ee1e9f8263",
   "metadata": {
    "tags": []
   },
   "outputs": [],
   "source": [
    "def merge_jsonfiles(filename):\n",
    "    result = list()\n",
    "    for f1 in filename:\n",
    "        with open(f1, 'r') as infile:\n",
    "            result.extend(json.load(infile))\n",
    "            \n",
    "        with open('1.RepublicanVsDemocratNew.json', 'w') as output_file:\n",
    "            json.dump(result, output_file)\n",
    "\n",
    "merge_jsonfiles(files)"
   ]
  },
  {
   "cell_type": "markdown",
   "id": "67d719c8-f487-4c70-bc2b-f4ecf637b844",
   "metadata": {},
   "source": [
    "With this code, these two files are successfully marged together. The file 'RepAdamas.json' was not included since it was extracted separately and comes in a different format, hence, should be compiled differently"
   ]
  },
  {
   "cell_type": "code",
   "execution_count": 4,
   "id": "a5a84760-4bfa-407c-9689-36f53b7af487",
   "metadata": {
    "tags": []
   },
   "outputs": [
    {
     "ename": "FileNotFoundError",
     "evalue": "[Errno 2] No such file or directory: 'RepublicanVsDemocratNew.json'",
     "output_type": "error",
     "traceback": [
      "\u001b[1;31m---------------------------------------------------------------------------\u001b[0m",
      "\u001b[1;31mFileNotFoundError\u001b[0m                         Traceback (most recent call last)",
      "Cell \u001b[1;32mIn[4], line 1\u001b[0m\n\u001b[1;32m----> 1\u001b[0m \u001b[38;5;28;01mwith\u001b[39;00m \u001b[38;5;28;43mopen\u001b[39;49m\u001b[43m(\u001b[49m\u001b[38;5;124;43m'\u001b[39;49m\u001b[38;5;124;43mRepublicanVsDemocratNew.json\u001b[39;49m\u001b[38;5;124;43m'\u001b[39;49m\u001b[43m,\u001b[49m\u001b[43m \u001b[49m\u001b[38;5;124;43m'\u001b[39;49m\u001b[38;5;124;43mr\u001b[39;49m\u001b[38;5;124;43m'\u001b[39;49m\u001b[43m)\u001b[49m \u001b[38;5;28;01mas\u001b[39;00m file1:\n\u001b[0;32m      2\u001b[0m     republican_data \u001b[38;5;241m=\u001b[39m json\u001b[38;5;241m.\u001b[39mload(file1)\n\u001b[0;32m      4\u001b[0m \u001b[38;5;28;01mwith\u001b[39;00m \u001b[38;5;28mopen\u001b[39m(\u001b[38;5;124m\"\u001b[39m\u001b[38;5;124mRepAdamas.json\u001b[39m\u001b[38;5;124m\"\u001b[39m, \u001b[38;5;124m\"\u001b[39m\u001b[38;5;124mr\u001b[39m\u001b[38;5;124m\"\u001b[39m) \u001b[38;5;28;01mas\u001b[39;00m file2:\n",
      "File \u001b[1;32m~\\AppData\\Roaming\\Python\\Python311\\site-packages\\IPython\\core\\interactiveshell.py:308\u001b[0m, in \u001b[0;36m_modified_open\u001b[1;34m(file, *args, **kwargs)\u001b[0m\n\u001b[0;32m    301\u001b[0m \u001b[38;5;28;01mif\u001b[39;00m file \u001b[38;5;129;01min\u001b[39;00m {\u001b[38;5;241m0\u001b[39m, \u001b[38;5;241m1\u001b[39m, \u001b[38;5;241m2\u001b[39m}:\n\u001b[0;32m    302\u001b[0m     \u001b[38;5;28;01mraise\u001b[39;00m \u001b[38;5;167;01mValueError\u001b[39;00m(\n\u001b[0;32m    303\u001b[0m         \u001b[38;5;124mf\u001b[39m\u001b[38;5;124m\"\u001b[39m\u001b[38;5;124mIPython won\u001b[39m\u001b[38;5;124m'\u001b[39m\u001b[38;5;124mt let you open fd=\u001b[39m\u001b[38;5;132;01m{\u001b[39;00mfile\u001b[38;5;132;01m}\u001b[39;00m\u001b[38;5;124m by default \u001b[39m\u001b[38;5;124m\"\u001b[39m\n\u001b[0;32m    304\u001b[0m         \u001b[38;5;124m\"\u001b[39m\u001b[38;5;124mas it is likely to crash IPython. If you know what you are doing, \u001b[39m\u001b[38;5;124m\"\u001b[39m\n\u001b[0;32m    305\u001b[0m         \u001b[38;5;124m\"\u001b[39m\u001b[38;5;124myou can use builtins\u001b[39m\u001b[38;5;124m'\u001b[39m\u001b[38;5;124m open.\u001b[39m\u001b[38;5;124m\"\u001b[39m\n\u001b[0;32m    306\u001b[0m     )\n\u001b[1;32m--> 308\u001b[0m \u001b[38;5;28;01mreturn\u001b[39;00m \u001b[43mio_open\u001b[49m\u001b[43m(\u001b[49m\u001b[43mfile\u001b[49m\u001b[43m,\u001b[49m\u001b[43m \u001b[49m\u001b[38;5;241;43m*\u001b[39;49m\u001b[43margs\u001b[49m\u001b[43m,\u001b[49m\u001b[43m \u001b[49m\u001b[38;5;241;43m*\u001b[39;49m\u001b[38;5;241;43m*\u001b[39;49m\u001b[43mkwargs\u001b[49m\u001b[43m)\u001b[49m\n",
      "\u001b[1;31mFileNotFoundError\u001b[0m: [Errno 2] No such file or directory: 'RepublicanVsDemocratNew.json'"
     ]
    }
   ],
   "source": [
    "with open('RepublicanVsDemocratNew.json', 'r') as file1:\n",
    "    republican_data = json.load(file1)\n",
    "\n",
    "with open(\"RepAdamas.json\", \"r\") as file2:\n",
    "    adamas_data = json.load(file2)[\"data\"]\n",
    "\n",
    "# Extract tweets from adamas_data\n",
    "tweets = [tweet[\"text\"] for tweet in adamas_data]\n",
    "\n",
    "# Create the new dictionary to append\n",
    "new_dict = {\"user_id\": 2916086925, \"tweet\": tweets}\n",
    "\n",
    "len(new_dict['tweet'])\n"
   ]
  },
  {
   "cell_type": "code",
   "execution_count": null,
   "id": "c73c40bf-874c-441a-813d-33b8d5fe50c4",
   "metadata": {
    "tags": []
   },
   "outputs": [],
   "source": [
    "# Append the new dictionary to republican_data\n",
    "republican_data.append(new_dict)\n",
    "\n",
    "# Save the updated data back to the original file\n",
    "with open(\"2.RepublicanVsDemocratNew.json\", \"w\") as file1:\n",
    "    json.dump(republican_data, file1, indent=4)  # Indent for readability"
   ]
  },
  {
   "cell_type": "markdown",
   "id": "9e32151d-e219-46f2-a218-d1531d9c69c6",
   "metadata": {},
   "source": [
    "Separate each tweet into a new dictionary so that it reads as a unique row when converted to CSV"
   ]
  },
  {
   "cell_type": "code",
   "execution_count": null,
   "id": "ff58bbaf-c3c2-42a7-9527-dc6e0a96a82c",
   "metadata": {
    "tags": []
   },
   "outputs": [],
   "source": [
    "# Load the JSON file\n",
    "with open('2.RepublicanVsDemocratNew.json', 'r') as file:\n",
    "    data = json.load(file)\n",
    "\n",
    "# Create a list to store the new dictionaries\n",
    "new_dictionaries = []\n",
    "\n",
    "# Iterate through each dictionary in the JSON data\n",
    "for entry in data:\n",
    "    user_id = entry['user_id']\n",
    "    tweets = entry['tweet']\n",
    "\n",
    "    # Iterate through each tweet and create a new dictionary\n",
    "    for tweet in tweets:\n",
    "        new_dict = {'user_id': user_id, 'tweet': tweet}\n",
    "        new_dictionaries.append(new_dict)\n",
    "\n",
    "# Save the new list of dictionaries to a new JSON file\n",
    "with open('3.RepublicanVsDemocratNew.json', 'w') as output_file:\n",
    "    json.dump(new_dictionaries, output_file, indent=2)"
   ]
  }
 ],
 "metadata": {
  "kernelspec": {
   "display_name": "Python 3 (ipykernel)",
   "language": "python",
   "name": "python3"
  },
  "language_info": {
   "codemirror_mode": {
    "name": "ipython",
    "version": 3
   },
   "file_extension": ".py",
   "mimetype": "text/x-python",
   "name": "python",
   "nbconvert_exporter": "python",
   "pygments_lexer": "ipython3",
   "version": "3.11.5"
  }
 },
 "nbformat": 4,
 "nbformat_minor": 5
}
