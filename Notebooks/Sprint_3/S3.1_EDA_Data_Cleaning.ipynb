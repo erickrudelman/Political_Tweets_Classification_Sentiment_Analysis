{
 "cells": [
  {
   "cell_type": "markdown",
   "id": "32008d9e-04ee-4d3f-9b89-8bebfe585328",
   "metadata": {
    "id": "32008d9e-04ee-4d3f-9b89-8bebfe585328"
   },
   "source": [
    "# Political Tweets Analysis\n",
    "\n",
    "## Introduction\n",
    "\n",
    "Can we predict if a political tweet has a Democrat or Republican inclination? Can we know the overall sentiment of the online-speech coming from Democrats and Republicans in digital communities?\n",
    "\n",
    "Welcome to this Jupyter Notebook dedicated to the analysis of political tweets! In this project, we delve into the fascinating world of political discourse on social media. Our goal is to gain insights into the dynamics of political discussions by analyzing a dataset of tweets.\n",
    "\n",
    "### Data Overview\n",
    "\n",
    "The dataset is comprised of political tweets, encompassing a variety of topics and sentiments. Throughout this analysis, we perform Exploratory Data Analysis (EDA) and engage in Feature Engineering to extract valuable information. Notably, a \"retweets\" column is introduced to binary code tweets that are retweets, and hashtags are systematically extracted and categorized into Democrat and Republican lists. These hashtags are consolidated in a \"Hashtags\" column, providing a quick reference for each tweet's associated hashtags. Additionally, the \"Party\" column is binarized to facilitate classification tasks.\n",
    "\n",
    "### EDA\n",
    "\n",
    "An extensive Exploratory Data Analysis (EDA) will be conducted to gain valuable insights and enrich the subsequent analytical processes. The initial step involves obtaining a general overview of the dataset, including the assessment of the number of records, features, and their respective data types, ensuring data integrity. Attention will be given to handling missing values.\n",
    "\n",
    "EDA will also involve creating visualizations, such as line plots or bar charts, to highlight trends or patterns specific to each political party, facilitating a nuanced understanding of communication strategies. Feature engineering may be employed to enhance the predictive power of the model, including the creation of numerical representations for text data using techniques like TF-IDF or word embeddings. \n",
    "\n",
    "To better understand the landscape of political tweets, I present visualizations such as the top hashtags associated with each party and word clouds highlighting the most prevalent hashtags. These visualizations serve as powerful tools for grasping the key themes within the dataset.\n",
    "\n",
    "### Data Cleaning\n",
    "\n",
    "To ensure the quality of our analysis, a comprehensive data cleaning process is implemented. This involves tokenizing tweets to lowercase, removing hashtags, links, punctuations, and handles. This step is crucial for preparing the data for sentiment analysis.\n"
   ]
  },
  {
   "cell_type": "code",
   "execution_count": 1,
   "id": "37f52972-6ca3-4f9d-96e6-f6152a3bcfc7",
   "metadata": {
    "id": "37f52972-6ca3-4f9d-96e6-f6152a3bcfc7",
    "tags": []
   },
   "outputs": [],
   "source": [
    "# Imports\n",
    "import pandas as pd\n",
    "import numpy as np\n",
    "import matplotlib.pyplot as plt\n",
    "import seaborn as sns\n",
    "import re"
   ]
  },
  {
   "cell_type": "code",
   "execution_count": 2,
   "id": "f6e29fad-030d-46e7-b827-ac344ab350c6",
   "metadata": {
    "colab": {
     "base_uri": "https://localhost:8080/",
     "height": 206
    },
    "id": "f6e29fad-030d-46e7-b827-ac344ab350c6",
    "outputId": "afd3971c-5b24-4279-9e5f-8986cd68d227",
    "tags": []
   },
   "outputs": [
    {
     "name": "stdout",
     "output_type": "stream",
     "text": [
      "9703\n"
     ]
    }
   ],
   "source": [
    "# Load DataFrame into variable df\n",
    "df = pd.read_csv('RepublicanVsDemocrat.csv')\n",
    "df.head()\n",
    "\n",
    "# Check the amount of tweets\n",
    "print(len(df))"
   ]
  },
  {
   "cell_type": "code",
   "execution_count": 3,
   "id": "393a5d7c-619e-4218-ad25-1aa6b512a0fd",
   "metadata": {
    "colab": {
     "base_uri": "https://localhost:8080/"
    },
    "id": "393a5d7c-619e-4218-ad25-1aa6b512a0fd",
    "outputId": "248a9a7b-2ea7-4fbb-ae73-5b1d1b1e1b3e",
    "tags": []
   },
   "outputs": [
    {
     "data": {
      "text/plain": [
       "user_id    0\n",
       "tweet      0\n",
       "dtype: int64"
      ]
     },
     "execution_count": 3,
     "metadata": {},
     "output_type": "execute_result"
    }
   ],
   "source": [
    "# Check for null values in the dataset\n",
    "df.isna().sum()"
   ]
  },
  {
   "cell_type": "markdown",
   "id": "f0539c29-36e0-4091-aec4-debbc9843b83",
   "metadata": {},
   "source": [
    "Now we will read the PoliticalUsernamesAndIds.csv file to map the user_id with our df dataframe and read the party affiliation for each user"
   ]
  },
  {
   "cell_type": "code",
   "execution_count": 4,
   "id": "0c208bbd-0db3-4174-9fe2-d3a869ac60cd",
   "metadata": {
    "tags": []
   },
   "outputs": [
    {
     "data": {
      "text/html": [
       "<div>\n",
       "<style scoped>\n",
       "    .dataframe tbody tr th:only-of-type {\n",
       "        vertical-align: middle;\n",
       "    }\n",
       "\n",
       "    .dataframe tbody tr th {\n",
       "        vertical-align: top;\n",
       "    }\n",
       "\n",
       "    .dataframe thead th {\n",
       "        text-align: right;\n",
       "    }\n",
       "</style>\n",
       "<table border=\"1\" class=\"dataframe\">\n",
       "  <thead>\n",
       "    <tr style=\"text-align: right;\">\n",
       "      <th></th>\n",
       "      <th>id</th>\n",
       "      <th>name</th>\n",
       "      <th>username</th>\n",
       "      <th>party</th>\n",
       "    </tr>\n",
       "  </thead>\n",
       "  <tbody>\n",
       "    <tr>\n",
       "      <th>0</th>\n",
       "      <td>2916086925</td>\n",
       "      <td>Rep. Alma Adams</td>\n",
       "      <td>RepAdams</td>\n",
       "      <td>D</td>\n",
       "    </tr>\n",
       "    <tr>\n",
       "      <th>1</th>\n",
       "      <td>76452765</td>\n",
       "      <td>Robert Aderholt</td>\n",
       "      <td>Robert_Aderholt</td>\n",
       "      <td>R</td>\n",
       "    </tr>\n",
       "    <tr>\n",
       "      <th>2</th>\n",
       "      <td>3018670151</td>\n",
       "      <td>Rep. Pete Aguilar</td>\n",
       "      <td>RepPeteAguilar</td>\n",
       "      <td>D</td>\n",
       "    </tr>\n",
       "    <tr>\n",
       "      <th>3</th>\n",
       "      <td>1612483604071727104</td>\n",
       "      <td>Mark Alford</td>\n",
       "      <td>RepMarkAlford</td>\n",
       "      <td>R</td>\n",
       "    </tr>\n",
       "    <tr>\n",
       "      <th>4</th>\n",
       "      <td>2964287128</td>\n",
       "      <td>Rick W. Allen</td>\n",
       "      <td>RepRickAllen</td>\n",
       "      <td>R</td>\n",
       "    </tr>\n",
       "  </tbody>\n",
       "</table>\n",
       "</div>"
      ],
      "text/plain": [
       "                    id               name         username party\n",
       "0           2916086925    Rep. Alma Adams         RepAdams     D\n",
       "1             76452765    Robert Aderholt  Robert_Aderholt     R\n",
       "2           3018670151  Rep. Pete Aguilar   RepPeteAguilar     D\n",
       "3  1612483604071727104        Mark Alford    RepMarkAlford     R\n",
       "4           2964287128      Rick W. Allen     RepRickAllen     R"
      ]
     },
     "execution_count": 4,
     "metadata": {},
     "output_type": "execute_result"
    }
   ],
   "source": [
    "# Read PoliticalUsernamesAndIds.csv into a dataframe\n",
    "politicalhandles = pd.read_csv('PoliticalUsernamesAndIds.csv')\n",
    "\n",
    "# Display results\n",
    "politicalhandles.head()"
   ]
  },
  {
   "cell_type": "code",
   "execution_count": 5,
   "id": "9e81dac1-bd0c-48e6-b27d-2e46f4575835",
   "metadata": {
    "tags": []
   },
   "outputs": [
    {
     "data": {
      "text/html": [
       "<div>\n",
       "<style scoped>\n",
       "    .dataframe tbody tr th:only-of-type {\n",
       "        vertical-align: middle;\n",
       "    }\n",
       "\n",
       "    .dataframe tbody tr th {\n",
       "        vertical-align: top;\n",
       "    }\n",
       "\n",
       "    .dataframe thead th {\n",
       "        text-align: right;\n",
       "    }\n",
       "</style>\n",
       "<table border=\"1\" class=\"dataframe\">\n",
       "  <thead>\n",
       "    <tr style=\"text-align: right;\">\n",
       "      <th></th>\n",
       "      <th>user_id</th>\n",
       "      <th>tweet</th>\n",
       "      <th>party</th>\n",
       "    </tr>\n",
       "  </thead>\n",
       "  <tbody>\n",
       "    <tr>\n",
       "      <th>0</th>\n",
       "      <td>76452765</td>\n",
       "      <td>On Joe Biden's first day in the Oval Office, h...</td>\n",
       "      <td>None</td>\n",
       "    </tr>\n",
       "    <tr>\n",
       "      <th>1</th>\n",
       "      <td>76452765</td>\n",
       "      <td>I was sorry to hear of the passing of longtime...</td>\n",
       "      <td>None</td>\n",
       "    </tr>\n",
       "    <tr>\n",
       "      <th>2</th>\n",
       "      <td>76452765</td>\n",
       "      <td>RT @1819News: U.S. Rep. Robert Aderholt (R-Hal...</td>\n",
       "      <td>None</td>\n",
       "    </tr>\n",
       "    <tr>\n",
       "      <th>3</th>\n",
       "      <td>76452765</td>\n",
       "      <td>I’m sorry to hear of Anthony’s passing. He fre...</td>\n",
       "      <td>None</td>\n",
       "    </tr>\n",
       "    <tr>\n",
       "      <th>4</th>\n",
       "      <td>76452765</td>\n",
       "      <td>H.R. 6914 Pregnant Students’ Rights Act: Colle...</td>\n",
       "      <td>None</td>\n",
       "    </tr>\n",
       "  </tbody>\n",
       "</table>\n",
       "</div>"
      ],
      "text/plain": [
       "    user_id                                              tweet party\n",
       "0  76452765  On Joe Biden's first day in the Oval Office, h...  None\n",
       "1  76452765  I was sorry to hear of the passing of longtime...  None\n",
       "2  76452765  RT @1819News: U.S. Rep. Robert Aderholt (R-Hal...  None\n",
       "3  76452765  I’m sorry to hear of Anthony’s passing. He fre...  None\n",
       "4  76452765  H.R. 6914 Pregnant Students’ Rights Act: Colle...  None"
      ]
     },
     "execution_count": 5,
     "metadata": {},
     "output_type": "execute_result"
    }
   ],
   "source": [
    "# Create Party column on df\n",
    "df['party'] = None\n",
    "\n",
    "# display results\n",
    "df.head()"
   ]
  },
  {
   "cell_type": "code",
   "execution_count": 6,
   "id": "b4bcd274-ced0-4117-9e5a-9cbafb102d6c",
   "metadata": {
    "tags": []
   },
   "outputs": [],
   "source": [
    "# Iterate through each row in df to map it with user_id and obtain the party affiliation\n",
    "for i in range(len(df)):\n",
    "    user_id = df.loc[i, 'user_id']\n",
    "    matching_row = politicalhandles[politicalhandles['id'] == user_id]\n",
    "    \n",
    "    if not matching_row.empty:\n",
    "        df.loc[i, 'party'] = matching_row['party'].iloc[0]\n",
    "    else:\n",
    "        # Handle the case where there is no matching row in members_data2\n",
    "        df.loc[i, 'party'] = None  # or any other value indicating no match"
   ]
  },
  {
   "cell_type": "code",
   "execution_count": 7,
   "id": "872b13d6-27cf-4c08-88dc-cf2b4e9cbedf",
   "metadata": {
    "tags": []
   },
   "outputs": [
    {
     "data": {
      "text/html": [
       "<div>\n",
       "<style scoped>\n",
       "    .dataframe tbody tr th:only-of-type {\n",
       "        vertical-align: middle;\n",
       "    }\n",
       "\n",
       "    .dataframe tbody tr th {\n",
       "        vertical-align: top;\n",
       "    }\n",
       "\n",
       "    .dataframe thead th {\n",
       "        text-align: right;\n",
       "    }\n",
       "</style>\n",
       "<table border=\"1\" class=\"dataframe\">\n",
       "  <thead>\n",
       "    <tr style=\"text-align: right;\">\n",
       "      <th></th>\n",
       "      <th>user_id</th>\n",
       "      <th>tweet</th>\n",
       "      <th>party</th>\n",
       "    </tr>\n",
       "  </thead>\n",
       "  <tbody>\n",
       "    <tr>\n",
       "      <th>0</th>\n",
       "      <td>76452765</td>\n",
       "      <td>On Joe Biden's first day in the Oval Office, h...</td>\n",
       "      <td>R</td>\n",
       "    </tr>\n",
       "    <tr>\n",
       "      <th>1</th>\n",
       "      <td>76452765</td>\n",
       "      <td>I was sorry to hear of the passing of longtime...</td>\n",
       "      <td>R</td>\n",
       "    </tr>\n",
       "    <tr>\n",
       "      <th>2</th>\n",
       "      <td>76452765</td>\n",
       "      <td>RT @1819News: U.S. Rep. Robert Aderholt (R-Hal...</td>\n",
       "      <td>R</td>\n",
       "    </tr>\n",
       "    <tr>\n",
       "      <th>3</th>\n",
       "      <td>76452765</td>\n",
       "      <td>I’m sorry to hear of Anthony’s passing. He fre...</td>\n",
       "      <td>R</td>\n",
       "    </tr>\n",
       "    <tr>\n",
       "      <th>4</th>\n",
       "      <td>76452765</td>\n",
       "      <td>H.R. 6914 Pregnant Students’ Rights Act: Colle...</td>\n",
       "      <td>R</td>\n",
       "    </tr>\n",
       "  </tbody>\n",
       "</table>\n",
       "</div>"
      ],
      "text/plain": [
       "    user_id                                              tweet party\n",
       "0  76452765  On Joe Biden's first day in the Oval Office, h...     R\n",
       "1  76452765  I was sorry to hear of the passing of longtime...     R\n",
       "2  76452765  RT @1819News: U.S. Rep. Robert Aderholt (R-Hal...     R\n",
       "3  76452765  I’m sorry to hear of Anthony’s passing. He fre...     R\n",
       "4  76452765  H.R. 6914 Pregnant Students’ Rights Act: Colle...     R"
      ]
     },
     "execution_count": 7,
     "metadata": {},
     "output_type": "execute_result"
    }
   ],
   "source": [
    "# Check results\n",
    "df.head()"
   ]
  },
  {
   "cell_type": "code",
   "execution_count": 8,
   "id": "12d3caa0-b2b6-46d9-9aed-26b075a3272b",
   "metadata": {
    "tags": []
   },
   "outputs": [],
   "source": [
    "# Convert object type column to string\n",
    "df['party'] = df['party'].astype(str)"
   ]
  },
  {
   "cell_type": "code",
   "execution_count": 9,
   "id": "1a4a20db-9e46-4096-a34f-873f3829211b",
   "metadata": {
    "tags": []
   },
   "outputs": [
    {
     "data": {
      "text/plain": [
       "party\n",
       "D      4785\n",
       "R      4760\n",
       "nan     158\n",
       "Name: count, dtype: int64"
      ]
     },
     "execution_count": 9,
     "metadata": {},
     "output_type": "execute_result"
    }
   ],
   "source": [
    "# Check if the dataset is balanced, and not skewed, between democrat and republican tweets. \n",
    "df['party'].value_counts()"
   ]
  },
  {
   "cell_type": "markdown",
   "id": "636eedb2-a21a-4998-80fe-d2ef5372b9f7",
   "metadata": {},
   "source": [
    "We see that there are some null 'part' values. This should not be like thise. Either the errors was dragged from the Twitter_hacking.ipynb notebook or these persons don't have a party affiliation.\n",
    "\n",
    "Will have to take a look at this to address this error"
   ]
  },
  {
   "cell_type": "code",
   "execution_count": 10,
   "id": "31fdcdf7-5dcb-4835-9118-9d3bb8b6faa5",
   "metadata": {
    "tags": []
   },
   "outputs": [
    {
     "data": {
      "text/plain": [
       "user_id\n",
       "1583530102297600000    23\n",
       "226639880              23\n",
       "1143841                23\n",
       "1612865196489412608    23\n",
       "1206227149             23\n",
       "1382395679700439041    22\n",
       "1563316176717246464    21\n",
       "Name: count, dtype: int64"
      ]
     },
     "execution_count": 10,
     "metadata": {},
     "output_type": "execute_result"
    }
   ],
   "source": [
    "# Check where the 'party' columns has null values\n",
    "filtered_df = df[(df['party'] != 'R') & (df['party'] != 'D')]\n",
    "\n",
    "# Check the name of the user_id's with null party values to perform a manual inspection\n",
    "filtered_df['user_id'].value_counts()"
   ]
  },
  {
   "cell_type": "code",
   "execution_count": 11,
   "id": "3e9e7ca0-10f2-48b4-8d5e-2479fe87e85f",
   "metadata": {
    "tags": []
   },
   "outputs": [
    {
     "data": {
      "text/html": [
       "<div>\n",
       "<style scoped>\n",
       "    .dataframe tbody tr th:only-of-type {\n",
       "        vertical-align: middle;\n",
       "    }\n",
       "\n",
       "    .dataframe tbody tr th {\n",
       "        vertical-align: top;\n",
       "    }\n",
       "\n",
       "    .dataframe thead th {\n",
       "        text-align: right;\n",
       "    }\n",
       "</style>\n",
       "<table border=\"1\" class=\"dataframe\">\n",
       "  <thead>\n",
       "    <tr style=\"text-align: right;\">\n",
       "      <th></th>\n",
       "      <th>id</th>\n",
       "      <th>name</th>\n",
       "      <th>username</th>\n",
       "      <th>party</th>\n",
       "    </tr>\n",
       "  </thead>\n",
       "  <tbody>\n",
       "    <tr>\n",
       "      <th>153</th>\n",
       "      <td>226639880</td>\n",
       "      <td>Guillaume</td>\n",
       "      <td>tx</td>\n",
       "      <td>NaN</td>\n",
       "    </tr>\n",
       "  </tbody>\n",
       "</table>\n",
       "</div>"
      ],
      "text/plain": [
       "            id       name username party\n",
       "153  226639880  Guillaume       tx   NaN"
      ]
     },
     "execution_count": 11,
     "metadata": {},
     "output_type": "execute_result"
    }
   ],
   "source": [
    "# Check the username of each of these user_id's\n",
    "politicalhandles[politicalhandles['id']==226639880 ]"
   ]
  },
  {
   "cell_type": "markdown",
   "id": "87142780-a7f0-4670-bfb3-9f66dd238447",
   "metadata": {},
   "source": [
    "Through a manual inspection of the original dataset containing senators' usernames, I will validate and confirm the necessary actions for each handle. For handles that genuinely represent a party affiliation, corrections will be made in the dataset to ensure accuracy. On the other hand, handles like \"tx\" and \"ct\" that appear to be tweets erroneously scrapped will be identified and subsequently deleted from the dataset. This meticulous review and corrective process aim to enhance the dataset's reliability and eliminate inaccuracies stemming from misinterpreted or irrelevant handles.\n",
    "\n",
    "\n",
    "226639880              23 : tx -> drop\n",
    "\n",
    "1143841                23 : ct -> drop\n",
    "\n",
    "1583530102297600000    23 : RepLCD -> republican\n",
    "\n",
    "1612865196489412608    23 : RepValHoyle -> democrat\n",
    "\n",
    "1206227149             23 : RepMarkPocan -> democrat\n",
    "\n",
    "1382395679700439041    22 : RepJuliaLetlow -> republican\n",
    "\n",
    "1563316176717246464    21 : RepFinstad -> republican"
   ]
  },
  {
   "cell_type": "code",
   "execution_count": 12,
   "id": "98debc8a-bf8f-4280-af6d-b808e6be8188",
   "metadata": {
    "tags": []
   },
   "outputs": [
    {
     "data": {
      "text/html": [
       "<div>\n",
       "<style scoped>\n",
       "    .dataframe tbody tr th:only-of-type {\n",
       "        vertical-align: middle;\n",
       "    }\n",
       "\n",
       "    .dataframe tbody tr th {\n",
       "        vertical-align: top;\n",
       "    }\n",
       "\n",
       "    .dataframe thead th {\n",
       "        text-align: right;\n",
       "    }\n",
       "</style>\n",
       "<table border=\"1\" class=\"dataframe\">\n",
       "  <thead>\n",
       "    <tr style=\"text-align: right;\">\n",
       "      <th></th>\n",
       "      <th>user_id</th>\n",
       "      <th>tweet</th>\n",
       "      <th>party</th>\n",
       "    </tr>\n",
       "  </thead>\n",
       "  <tbody>\n",
       "  </tbody>\n",
       "</table>\n",
       "</div>"
      ],
      "text/plain": [
       "Empty DataFrame\n",
       "Columns: [user_id, tweet, party]\n",
       "Index: []"
      ]
     },
     "execution_count": 12,
     "metadata": {},
     "output_type": "execute_result"
    }
   ],
   "source": [
    "# drop rows of tweets from erroneously scraped accounts\n",
    "df.drop(df[df['user_id'].isin([226639880, 1143841])].index, inplace=True)\n",
    "\n",
    "# Check results\n",
    "df[df['user_id']==226639880]"
   ]
  },
  {
   "cell_type": "markdown",
   "id": "bdc303fd-cc56-48d0-b380-0e7477e6dc35",
   "metadata": {},
   "source": [
    "Rows have been successfully deleted!\n",
    "\n",
    "Now we will fix the party value for the other rows`"
   ]
  },
  {
   "cell_type": "code",
   "execution_count": 13,
   "id": "8cc3ba8e-bb4a-4b51-a34c-fd2f5f262e03",
   "metadata": {
    "tags": []
   },
   "outputs": [],
   "source": [
    "# Dictionary to map user_id values to corresponding party values\n",
    "user_id_to_party_mapping = {\n",
    "    1583530102297600000: 'R',\n",
    "    1612865196489412608: 'D',\n",
    "    1206227149: 'D',\n",
    "    1382395679700439041: 'R',\n",
    "    1563316176717246464: 'R'\n",
    "}\n",
    "\n",
    "# Iterate through the DataFrame and update 'party' column\n",
    "for index, row in df.iterrows():\n",
    "    user_id = row['user_id']\n",
    "    if user_id in user_id_to_party_mapping:\n",
    "        df.at[index, 'party'] = user_id_to_party_mapping[user_id]"
   ]
  },
  {
   "cell_type": "code",
   "execution_count": 14,
   "id": "cee5009c-a2d7-43b5-9264-4d46e011b9ac",
   "metadata": {
    "tags": []
   },
   "outputs": [
    {
     "data": {
      "text/plain": [
       "party\n",
       "D    4831\n",
       "R    4826\n",
       "Name: count, dtype: int64"
      ]
     },
     "execution_count": 14,
     "metadata": {},
     "output_type": "execute_result"
    }
   ],
   "source": [
    "df['party'].value_counts()"
   ]
  },
  {
   "cell_type": "markdown",
   "id": "605d92e3-15cc-4474-a478-4f0413859efd",
   "metadata": {},
   "source": [
    "We have successfully fixed the null values in the party columns. \n",
    "\n",
    "We can see that the tweet distribution is very balanced between both parties which makes a good dataset to work with since it will not be biased towards any party"
   ]
  },
  {
   "cell_type": "markdown",
   "id": "24ab8e0d-0bca-40d3-9a68-54ca2a04a77b",
   "metadata": {
    "id": "24ab8e0d-0bca-40d3-9a68-54ca2a04a77b",
    "tags": []
   },
   "source": [
    "## 1.  EDA\n",
    "\n",
    "### Checking for Nulls and Duplicates"
   ]
  },
  {
   "cell_type": "code",
   "execution_count": 15,
   "id": "cf3f8347-3e7d-401d-af0d-de359536b14a",
   "metadata": {
    "colab": {
     "base_uri": "https://localhost:8080/"
    },
    "id": "cf3f8347-3e7d-401d-af0d-de359536b14a",
    "outputId": "4efa7b22-a263-43f9-da33-9b92a1db7d9a",
    "tags": []
   },
   "outputs": [
    {
     "name": "stdout",
     "output_type": "stream",
     "text": [
      "The column user_id has 424 unique values\n",
      "The column tweet has 9523 unique values\n",
      "The column party has 2 unique values\n"
     ]
    }
   ],
   "source": [
    "# Check of unique values\n",
    "for col in df.columns:\n",
    "    selected =  df[col]\n",
    "    n_unique = selected.unique().shape[0]\n",
    "    print(\"The column {} has {} unique values\".format(col,n_unique,len(df)))"
   ]
  },
  {
   "cell_type": "markdown",
   "id": "8df867ac-8585-4ff9-8335-eb08cb0da801",
   "metadata": {
    "id": "8df867ac-8585-4ff9-8335-eb08cb0da801"
   },
   "source": [
    "This tells us the dataset is compiled of tweets from 426 users and there are 9569 unique tweets out of 9703."
   ]
  },
  {
   "cell_type": "markdown",
   "id": "c50975da-d3d8-41f2-a29a-542d978c325a",
   "metadata": {
    "id": "c50975da-d3d8-41f2-a29a-542d978c325a"
   },
   "source": [
    "Now we will check for duplicate values"
   ]
  },
  {
   "cell_type": "code",
   "execution_count": 16,
   "id": "d80ee127-0462-4b2a-9d15-e0f4efb4a343",
   "metadata": {
    "colab": {
     "base_uri": "https://localhost:8080/"
    },
    "id": "d80ee127-0462-4b2a-9d15-e0f4efb4a343",
    "outputId": "9dc431be-171c-4f9d-f619-7da796c6ca43",
    "tags": []
   },
   "outputs": [
    {
     "data": {
      "text/plain": [
       "(134, 3)"
      ]
     },
     "execution_count": 16,
     "metadata": {},
     "output_type": "execute_result"
    }
   ],
   "source": [
    "duplicates = df[df['tweet'].duplicated() == True]\n",
    "duplicates.shape"
   ]
  },
  {
   "cell_type": "markdown",
   "id": "5b8b4639-1e63-4918-8524-547d9073c045",
   "metadata": {
    "id": "5b8b4639-1e63-4918-8524-547d9073c045"
   },
   "source": [
    "There are 134 duplicate values\n",
    "\n",
    "We are going to show the Tweets that are duplicate and delete them."
   ]
  },
  {
   "cell_type": "code",
   "execution_count": 17,
   "id": "cd28d739-c9a7-448e-9708-429cdb991b54",
   "metadata": {
    "tags": []
   },
   "outputs": [
    {
     "data": {
      "text/html": [
       "<div>\n",
       "<style scoped>\n",
       "    .dataframe tbody tr th:only-of-type {\n",
       "        vertical-align: middle;\n",
       "    }\n",
       "\n",
       "    .dataframe tbody tr th {\n",
       "        vertical-align: top;\n",
       "    }\n",
       "\n",
       "    .dataframe thead th {\n",
       "        text-align: right;\n",
       "    }\n",
       "</style>\n",
       "<table border=\"1\" class=\"dataframe\">\n",
       "  <thead>\n",
       "    <tr style=\"text-align: right;\">\n",
       "      <th></th>\n",
       "      <th>user_id</th>\n",
       "      <th>tweet</th>\n",
       "      <th>party</th>\n",
       "    </tr>\n",
       "  </thead>\n",
       "  <tbody>\n",
       "    <tr>\n",
       "      <th>637</th>\n",
       "      <td>1176522535531360257</td>\n",
       "      <td>RT @Weaponization: 🚨 #BREAKING: Federal Govern...</td>\n",
       "      <td>R</td>\n",
       "    </tr>\n",
       "    <tr>\n",
       "      <th>1142</th>\n",
       "      <td>816157667882373120</td>\n",
       "      <td>RT @BipartisanVets: .@RepCarbajal, @RepDonBaco...</td>\n",
       "      <td>D</td>\n",
       "    </tr>\n",
       "    <tr>\n",
       "      <th>1346</th>\n",
       "      <td>1499512178013057032</td>\n",
       "      <td>RT @USProgressives: 51 years ago, Roe v Wade w...</td>\n",
       "      <td>D</td>\n",
       "    </tr>\n",
       "    <tr>\n",
       "      <th>1756</th>\n",
       "      <td>1274852794206388225</td>\n",
       "      <td>RT @GOPoversight: 🚨 TRANSCRIPT RELEASE 🚨\\n\\nTo...</td>\n",
       "      <td>R</td>\n",
       "    </tr>\n",
       "    <tr>\n",
       "      <th>1757</th>\n",
       "      <td>1274852794206388225</td>\n",
       "      <td>RT @GOPoversight: 🚨 TRANSCRIPT RELEASE 🚨\\n\\nTo...</td>\n",
       "      <td>R</td>\n",
       "    </tr>\n",
       "    <tr>\n",
       "      <th>...</th>\n",
       "      <td>...</td>\n",
       "      <td>...</td>\n",
       "      <td>...</td>\n",
       "    </tr>\n",
       "    <tr>\n",
       "      <th>9385</th>\n",
       "      <td>281540744</td>\n",
       "      <td>RT @SpeakerJohnson: Our prayers and deepest co...</td>\n",
       "      <td>R</td>\n",
       "    </tr>\n",
       "    <tr>\n",
       "      <th>9439</th>\n",
       "      <td>2852998461</td>\n",
       "      <td>RT @NatResources: Today, the committee unanimo...</td>\n",
       "      <td>R</td>\n",
       "    </tr>\n",
       "    <tr>\n",
       "      <th>9447</th>\n",
       "      <td>2852998461</td>\n",
       "      <td>RT @HouseGOP: Today, we honor the legacy of Ma...</td>\n",
       "      <td>R</td>\n",
       "    </tr>\n",
       "    <tr>\n",
       "      <th>9530</th>\n",
       "      <td>1602757312539680770</td>\n",
       "      <td>RT @SaveLocalBiz: .@RepDesposito, @RepMikeLawl...</td>\n",
       "      <td>R</td>\n",
       "    </tr>\n",
       "    <tr>\n",
       "      <th>9537</th>\n",
       "      <td>1602757312539680770</td>\n",
       "      <td>RT @EdWorkforceCmte: .@virginiafoxx, @RepAaron...</td>\n",
       "      <td>R</td>\n",
       "    </tr>\n",
       "  </tbody>\n",
       "</table>\n",
       "<p>134 rows × 3 columns</p>\n",
       "</div>"
      ],
      "text/plain": [
       "                  user_id                                              tweet  \\\n",
       "637   1176522535531360257  RT @Weaponization: 🚨 #BREAKING: Federal Govern...   \n",
       "1142   816157667882373120  RT @BipartisanVets: .@RepCarbajal, @RepDonBaco...   \n",
       "1346  1499512178013057032  RT @USProgressives: 51 years ago, Roe v Wade w...   \n",
       "1756  1274852794206388225  RT @GOPoversight: 🚨 TRANSCRIPT RELEASE 🚨\\n\\nTo...   \n",
       "1757  1274852794206388225  RT @GOPoversight: 🚨 TRANSCRIPT RELEASE 🚨\\n\\nTo...   \n",
       "...                   ...                                                ...   \n",
       "9385            281540744  RT @SpeakerJohnson: Our prayers and deepest co...   \n",
       "9439           2852998461  RT @NatResources: Today, the committee unanimo...   \n",
       "9447           2852998461  RT @HouseGOP: Today, we honor the legacy of Ma...   \n",
       "9530  1602757312539680770  RT @SaveLocalBiz: .@RepDesposito, @RepMikeLawl...   \n",
       "9537  1602757312539680770  RT @EdWorkforceCmte: .@virginiafoxx, @RepAaron...   \n",
       "\n",
       "     party  \n",
       "637      R  \n",
       "1142     D  \n",
       "1346     D  \n",
       "1756     R  \n",
       "1757     R  \n",
       "...    ...  \n",
       "9385     R  \n",
       "9439     R  \n",
       "9447     R  \n",
       "9530     R  \n",
       "9537     R  \n",
       "\n",
       "[134 rows x 3 columns]"
      ]
     },
     "execution_count": 17,
     "metadata": {},
     "output_type": "execute_result"
    }
   ],
   "source": [
    "duplicates"
   ]
  },
  {
   "cell_type": "code",
   "execution_count": 18,
   "id": "8bd0d571-4d86-4ea3-93d9-9f3497018961",
   "metadata": {
    "colab": {
     "base_uri": "https://localhost:8080/"
    },
    "id": "8bd0d571-4d86-4ea3-93d9-9f3497018961",
    "outputId": "b26c2c63-48f8-4c95-e249-902c0d68d48b",
    "tags": []
   },
   "outputs": [
    {
     "name": "stdout",
     "output_type": "stream",
     "text": [
      "We have deleted 1 duplicate tweets from the same Handle\n"
     ]
    }
   ],
   "source": [
    "# We'll drop duplicate tweets from the same handle\n",
    "df_cleaned = df.drop_duplicates(['user_id', 'tweet'])\n",
    "df_cleaned.shape\n",
    "print(f\"We have deleted {df.shape[0]-df_cleaned.shape[0]} duplicate tweets from the same Handle\")"
   ]
  },
  {
   "cell_type": "code",
   "execution_count": 19,
   "id": "a139a903-0956-4467-98ee-9dd618399677",
   "metadata": {
    "tags": []
   },
   "outputs": [
    {
     "name": "stdout",
     "output_type": "stream",
     "text": [
      "We have deleted 128 duplicate tweets from the same Party\n"
     ]
    }
   ],
   "source": [
    "# Now we'll drop duplicate tweets from the same part\n",
    "df_cleaned2 = df_cleaned.drop_duplicates(['party', 'tweet'])\n",
    "df_cleaned2.shape\n",
    "print(f\"We have deleted {df_cleaned.shape[0]-df_cleaned2.shape[0]} duplicate tweets from the same Party\")"
   ]
  },
  {
   "cell_type": "markdown",
   "id": "4c50512d-cd69-4beb-9c00-a74af33a9b95",
   "metadata": {
    "id": "4c50512d-cd69-4beb-9c00-a74af33a9b95"
   },
   "source": [
    "So we have deleted 129 out of 135 duplicates. This means there must be 5 duplicates Tweets but from different parties. We will check them for sanity check and leave them since they are representations of both parties It would be biased to leave the tweet content to represent exclusively one party and not the other."
   ]
  },
  {
   "cell_type": "code",
   "execution_count": 20,
   "id": "771bc739-b7ab-4fd5-b674-2f821a838456",
   "metadata": {
    "colab": {
     "base_uri": "https://localhost:8080/",
     "height": 1000
    },
    "id": "771bc739-b7ab-4fd5-b674-2f821a838456",
    "outputId": "bfd5243a-8f03-4747-b554-2cfc1576f97c",
    "tags": []
   },
   "outputs": [
    {
     "data": {
      "text/html": [
       "<div>\n",
       "<style scoped>\n",
       "    .dataframe tbody tr th:only-of-type {\n",
       "        vertical-align: middle;\n",
       "    }\n",
       "\n",
       "    .dataframe tbody tr th {\n",
       "        vertical-align: top;\n",
       "    }\n",
       "\n",
       "    .dataframe thead th {\n",
       "        text-align: right;\n",
       "    }\n",
       "</style>\n",
       "<table border=\"1\" class=\"dataframe\">\n",
       "  <thead>\n",
       "    <tr style=\"text-align: right;\">\n",
       "      <th></th>\n",
       "      <th>user_id</th>\n",
       "      <th>tweet</th>\n",
       "      <th>party</th>\n",
       "    </tr>\n",
       "  </thead>\n",
       "  <tbody>\n",
       "    <tr>\n",
       "      <th>1142</th>\n",
       "      <td>816157667882373120</td>\n",
       "      <td>RT @BipartisanVets: .@RepCarbajal, @RepDonBaco...</td>\n",
       "      <td>D</td>\n",
       "    </tr>\n",
       "    <tr>\n",
       "      <th>1915</th>\n",
       "      <td>1608891205902794753</td>\n",
       "      <td>RT @freedomcaucus: Americans come to Washingto...</td>\n",
       "      <td>D</td>\n",
       "    </tr>\n",
       "    <tr>\n",
       "      <th>2477</th>\n",
       "      <td>1366523868253458437</td>\n",
       "      <td>RT @BipartisanVets: Our members prioritize the...</td>\n",
       "      <td>R</td>\n",
       "    </tr>\n",
       "    <tr>\n",
       "      <th>3146</th>\n",
       "      <td>88806753</td>\n",
       "      <td>RT @HIDAorg: HIDA applauds @RepEzell(R-MS) and...</td>\n",
       "      <td>D</td>\n",
       "    </tr>\n",
       "    <tr>\n",
       "      <th>3377</th>\n",
       "      <td>1343627416120532992</td>\n",
       "      <td>RT @HouseForeignGOP: Starting today🚨 CHM @RepM...</td>\n",
       "      <td>R</td>\n",
       "    </tr>\n",
       "  </tbody>\n",
       "</table>\n",
       "</div>"
      ],
      "text/plain": [
       "                  user_id                                              tweet  \\\n",
       "1142   816157667882373120  RT @BipartisanVets: .@RepCarbajal, @RepDonBaco...   \n",
       "1915  1608891205902794753  RT @freedomcaucus: Americans come to Washingto...   \n",
       "2477  1366523868253458437  RT @BipartisanVets: Our members prioritize the...   \n",
       "3146             88806753  RT @HIDAorg: HIDA applauds @RepEzell(R-MS) and...   \n",
       "3377  1343627416120532992  RT @HouseForeignGOP: Starting today🚨 CHM @RepM...   \n",
       "\n",
       "     party  \n",
       "1142     D  \n",
       "1915     D  \n",
       "2477     R  \n",
       "3146     D  \n",
       "3377     R  "
      ]
     },
     "execution_count": 20,
     "metadata": {},
     "output_type": "execute_result"
    }
   ],
   "source": [
    "# Check the 5 duplicate tweets.\n",
    "# This shows the second occurance of the duplicate.\n",
    "new_duplicates = df_cleaned2[df_cleaned2['tweet'].duplicated() == True]\n",
    "new_duplicates"
   ]
  },
  {
   "cell_type": "code",
   "execution_count": 21,
   "id": "f670e525-e8f2-4f28-beeb-13b8e13d63f1",
   "metadata": {
    "colab": {
     "base_uri": "https://localhost:8080/"
    },
    "id": "f670e525-e8f2-4f28-beeb-13b8e13d63f1",
    "outputId": "c512c8d3-2be1-40af-83a3-b64aabd2236c",
    "tags": []
   },
   "outputs": [
    {
     "data": {
      "text/plain": [
       "9528"
      ]
     },
     "execution_count": 21,
     "metadata": {},
     "output_type": "execute_result"
    }
   ],
   "source": [
    "df_cleaned2.shape[0]"
   ]
  },
  {
   "cell_type": "markdown",
   "id": "6cac5981-96e0-40b5-b74f-f0a07039cc00",
   "metadata": {
    "id": "6cac5981-96e0-40b5-b74f-f0a07039cc00"
   },
   "source": [
    "From the initial set of 9,703 tweets, we have successfully removed redundancies. Specifically, one duplicated tweet originating from the same handle and 128 duplicates emerging from distinct handles but associated with the same party have been eliminated. This step was taken as these duplicates, originating from the same party, presented identical representations and were thus considered redundant. It's noteworthy that duplicates arising from distinct parties were retained as they contribute to the representation of diverse clusters within the dataset.\n",
    "\n",
    "Following this cleaning process, our dataset now comprises 9,574 unique tweets, reflecting a refined and more accurate representation for subsequent analyses."
   ]
  },
  {
   "cell_type": "markdown",
   "id": "d18353db-d9b1-4ce8-8fd8-61964e02a534",
   "metadata": {
    "id": "d18353db-d9b1-4ce8-8fd8-61964e02a534"
   },
   "source": [
    "There are 2,908 instances of duplicate tweets with distinct handles. Our objective is to tally the number of unique handles associated with each duplicate tweet. The count of unique handles per duplicate tweet should align with the total count of 2,908, affirming that our dataframe exclusively comprises duplicate values with unique handles."
   ]
  },
  {
   "cell_type": "code",
   "execution_count": 22,
   "id": "e1a42693-1261-4772-be81-31b2a1fbeb0d",
   "metadata": {
    "colab": {
     "base_uri": "https://localhost:8080/",
     "height": 112
    },
    "id": "e1a42693-1261-4772-be81-31b2a1fbeb0d",
    "outputId": "13ccd2f7-b5af-47e0-8106-791e7d1ec031",
    "tags": []
   },
   "outputs": [
    {
     "name": "stdout",
     "output_type": "stream",
     "text": [
      "               user_id                                              tweet  \\\n",
      "0   818975124460335106  RT @BipartisanVets: .@RepCarbajal, @RepDonBaco...   \n",
      "1   816157667882373120  RT @BipartisanVets: .@RepCarbajal, @RepDonBaco...   \n",
      "2  1357017361568694274  RT @freedomcaucus: Americans come to Washingto...   \n",
      "3  1608891205902794753  RT @freedomcaucus: Americans come to Washingto...   \n",
      "4  1608934316779921408  RT @BipartisanVets: Our members prioritize the...   \n",
      "5  1366523868253458437  RT @BipartisanVets: Our members prioritize the...   \n",
      "6  1602788004749344768  RT @HIDAorg: HIDA applauds @RepEzell(R-MS) and...   \n",
      "7             88806753  RT @HIDAorg: HIDA applauds @RepEzell(R-MS) and...   \n",
      "8            210926192  RT @HouseForeignGOP: Starting today🚨 CHM @RepM...   \n",
      "9  1343627416120532992  RT @HouseForeignGOP: Starting today🚨 CHM @RepM...   \n",
      "\n",
      "  party  \n",
      "0     R  \n",
      "1     D  \n",
      "2     R  \n",
      "3     D  \n",
      "4     D  \n",
      "5     R  \n",
      "6     R  \n",
      "7     D  \n",
      "8     D  \n",
      "9     R  \n"
     ]
    }
   ],
   "source": [
    "# The duplicates() == True gives me only the second copy of the tweet\n",
    "# Let's check if the duplicate indeed is from a different Party\n",
    "duplicate_check = []\n",
    "\n",
    "for index, tweet in new_duplicates.iterrows():\n",
    "    string = tweet['tweet']\n",
    "    duplicate_check.append(df_cleaned2[df_cleaned2['tweet'].str.startswith(string)])\n",
    "    \n",
    "# Concatenate the DataFrames in duplicate_check\n",
    "duplicate_check_df = pd.concat(duplicate_check, ignore_index=True)\n",
    "\n",
    "# Display the resulting DataFrame\n",
    "print(duplicate_check_df)"
   ]
  },
  {
   "cell_type": "markdown",
   "id": "f3717eef-631b-4fec-bc16-4f00eb9ff0d2",
   "metadata": {
    "id": "f3717eef-631b-4fec-bc16-4f00eb9ff0d2"
   },
   "source": [
    "We can see that the duplicates are indeed form different parties, we can be sure our dataset is cleaned as desired. We leave these duplicates since it would be biased to leave one tweet accounting for one party but not for the other. This would result in a biased model when predicting future tweets as either democrat or republican."
   ]
  },
  {
   "cell_type": "code",
   "execution_count": 23,
   "id": "0efd4733-45c8-47ce-a605-747b63437adf",
   "metadata": {
    "id": "0efd4733-45c8-47ce-a605-747b63437adf",
    "tags": []
   },
   "outputs": [],
   "source": [
    "# For simplicity we will rename our latest dataframe as df_cleaned\n",
    "\n",
    "df_cleaned = df_cleaned2"
   ]
  },
  {
   "cell_type": "markdown",
   "id": "6a6b4db3-d537-43d8-ad9b-6bd23d7bf5ab",
   "metadata": {
    "id": "6a6b4db3-d537-43d8-ad9b-6bd23d7bf5ab"
   },
   "source": [
    "### Check for Retweets\n",
    "Binary column 'Retweets' will be created with the value of 1 of the Tweet is a retweet."
   ]
  },
  {
   "cell_type": "code",
   "execution_count": 24,
   "id": "e87d8dc5-b18b-4af7-bc33-1ed296d9d8e0",
   "metadata": {
    "colab": {
     "base_uri": "https://localhost:8080/"
    },
    "id": "e87d8dc5-b18b-4af7-bc33-1ed296d9d8e0",
    "outputId": "f88bd790-4a63-4045-8180-72877439a404",
    "tags": []
   },
   "outputs": [
    {
     "data": {
      "text/plain": [
       "1517"
      ]
     },
     "execution_count": 24,
     "metadata": {},
     "output_type": "execute_result"
    }
   ],
   "source": [
    "# Take a look at the amount of retweets in our data set\n",
    "df_cleaned[df_cleaned['tweet'].str.contains('RT')].shape[0]"
   ]
  },
  {
   "cell_type": "code",
   "execution_count": 25,
   "id": "9cefa06f-7429-4403-9e5f-0f43818b017c",
   "metadata": {
    "colab": {
     "base_uri": "https://localhost:8080/"
    },
    "id": "9cefa06f-7429-4403-9e5f-0f43818b017c",
    "outputId": "2e9a2cf2-7e29-4ed4-bea8-ea04cc62b783",
    "tags": []
   },
   "outputs": [
    {
     "name": "stdout",
     "output_type": "stream",
     "text": [
      " The percentage of retweets in the dataset is 15.708812260536398%\n"
     ]
    }
   ],
   "source": [
    "# Percantage of retweets from the whole data set\n",
    "pct_of_rt = df_cleaned[df_cleaned['tweet'].str.contains('RT')].shape[0]/df.shape[0]*100\n",
    "print(f\" The percentage of retweets in the dataset is {pct_of_rt}%\")"
   ]
  },
  {
   "cell_type": "markdown",
   "id": "7819776a-2cd7-4d9d-b8e5-ccc18e687c0a",
   "metadata": {
    "id": "7819776a-2cd7-4d9d-b8e5-ccc18e687c0a"
   },
   "source": [
    "Now we know that roughly 15.70% of the tweets in the dataset are retweets. That is a considerable amount.\n",
    "\n",
    "We will create a new binary column in the dataset with value of 1 if its a retweet and 0 if it's not."
   ]
  },
  {
   "cell_type": "code",
   "execution_count": 26,
   "id": "4cf996b5-1972-4342-a29c-0f52ed2f6abc",
   "metadata": {
    "colab": {
     "base_uri": "https://localhost:8080/"
    },
    "id": "4cf996b5-1972-4342-a29c-0f52ed2f6abc",
    "outputId": "821f305c-0736-4b28-a6e0-14b0857956e3",
    "tags": []
   },
   "outputs": [
    {
     "data": {
      "text/plain": [
       "0       None\n",
       "1       None\n",
       "2       None\n",
       "3       None\n",
       "4       None\n",
       "        ... \n",
       "9698    None\n",
       "9699    None\n",
       "9700    None\n",
       "9701    None\n",
       "9702    None\n",
       "Name: is_retweet, Length: 9528, dtype: object"
      ]
     },
     "execution_count": 26,
     "metadata": {},
     "output_type": "execute_result"
    }
   ],
   "source": [
    "# Create new blank columns to determine if tweet is retweeted or not\n",
    "df_cleaned['is_retweet'] = None\n",
    "\n",
    "#Check results\n",
    "df_cleaned['is_retweet']"
   ]
  },
  {
   "cell_type": "code",
   "execution_count": 27,
   "id": "70a7d01c-4f1e-4e62-86d6-fea4bbe651fc",
   "metadata": {
    "colab": {
     "base_uri": "https://localhost:8080/"
    },
    "id": "70a7d01c-4f1e-4e62-86d6-fea4bbe651fc",
    "outputId": "aa505d14-10f2-4a59-ea21-fa1721bfc847",
    "tags": []
   },
   "outputs": [
    {
     "data": {
      "text/plain": [
       "(1517, 4)"
      ]
     },
     "execution_count": 27,
     "metadata": {},
     "output_type": "execute_result"
    }
   ],
   "source": [
    "# Fill columns with binary values based on if tweet is retweet or not\n",
    "\n",
    "df_cleaned['is_retweet'] = df_cleaned['tweet'].apply(lambda x: 1 if 'RT' in x else 0)\n",
    "\n",
    "#Check to see if the amount of rows where there is a retweet matches with 19,194 the amount of RT previously calcualted\n",
    "df_cleaned[df_cleaned['is_retweet']==1].shape"
   ]
  },
  {
   "cell_type": "code",
   "execution_count": 28,
   "id": "a070ee73-684b-4b15-af00-04ef16c8493e",
   "metadata": {
    "colab": {
     "base_uri": "https://localhost:8080/",
     "height": 560
    },
    "id": "a070ee73-684b-4b15-af00-04ef16c8493e",
    "outputId": "22269f03-1e77-4841-ca88-1bdb1f208f41",
    "tags": []
   },
   "outputs": [
    {
     "name": "stderr",
     "output_type": "stream",
     "text": [
      "C:\\Users\\erick\\AppData\\Local\\Temp\\ipykernel_15352\\1415451929.py:18: MatplotlibDeprecationWarning: The legendHandles attribute was deprecated in Matplotlib 3.7 and will be removed two minor releases later. Use legend_handles instead.\n",
      "  legend.legendHandles[0].set_color(colors[0])\n",
      "C:\\Users\\erick\\AppData\\Local\\Temp\\ipykernel_15352\\1415451929.py:19: MatplotlibDeprecationWarning: The legendHandles attribute was deprecated in Matplotlib 3.7 and will be removed two minor releases later. Use legend_handles instead.\n",
      "  legend.legendHandles[1].set_color(colors[1])\n"
     ]
    },
    {
     "data": {
      "image/png": "[encoded data removed]",
      "text/plain": [
       "<Figure size 1000x600 with 1 Axes>"
      ]
     },
     "metadata": {},
     "output_type": "display_data"
    }
   ],
   "source": [
    "# Calculate the percentage of retweets for each party\n",
    "retweet_percentage = df_cleaned.groupby('party')['is_retweet'].value_counts(normalize=True) * 100\n",
    "retweet_percentage = retweet_percentage.rename('Percentage').reset_index()\n",
    "\n",
    "# Set custom colors for the plot\n",
    "colors = ['lightblue', 'blue']\n",
    "\n",
    "# Plot the results\n",
    "plt.figure(figsize=(10, 6))\n",
    "sns.barplot(x=retweet_percentage['party'], y=retweet_percentage['Percentage'], hue=retweet_percentage['is_retweet'], palette=colors)\n",
    "plt.title('Percentage of Retweets by Party')\n",
    "plt.xlabel('Party')\n",
    "plt.ylabel('Percentage')\n",
    "\n",
    "# Customize legend\n",
    "legend_labels = ['Not Retweet', 'Retweet']\n",
    "legend = plt.legend(title='Retweet', loc='upper right', labels=legend_labels)\n",
    "legend.legendHandles[0].set_color(colors[0])\n",
    "legend.legendHandles[1].set_color(colors[1])"
   ]
  },
  {
   "cell_type": "markdown",
   "id": "f126449e-6a9a-4232-94b5-3131480f225d",
   "metadata": {
    "id": "f126449e-6a9a-4232-94b5-3131480f225d"
   },
   "source": [
    "### Binarize Party\n",
    "\n",
    "- **Democrat = 1**\n",
    "- **Republican = 0**"
   ]
  },
  {
   "cell_type": "code",
   "execution_count": 29,
   "id": "1458a207-da18-4063-b91f-dcaffe59a12d",
   "metadata": {
    "colab": {
     "base_uri": "https://localhost:8080/",
     "height": 310
    },
    "id": "1458a207-da18-4063-b91f-dcaffe59a12d",
    "outputId": "262f8d4a-2538-4d20-9c03-f4354a7cb456",
    "tags": []
   },
   "outputs": [
    {
     "name": "stdout",
     "output_type": "stream",
     "text": [
      "9528\n"
     ]
    },
    {
     "data": {
      "text/html": [
       "<div>\n",
       "<style scoped>\n",
       "    .dataframe tbody tr th:only-of-type {\n",
       "        vertical-align: middle;\n",
       "    }\n",
       "\n",
       "    .dataframe tbody tr th {\n",
       "        vertical-align: top;\n",
       "    }\n",
       "\n",
       "    .dataframe thead th {\n",
       "        text-align: right;\n",
       "    }\n",
       "</style>\n",
       "<table border=\"1\" class=\"dataframe\">\n",
       "  <thead>\n",
       "    <tr style=\"text-align: right;\">\n",
       "      <th></th>\n",
       "      <th>user_id</th>\n",
       "      <th>tweet</th>\n",
       "      <th>party</th>\n",
       "      <th>is_retweet</th>\n",
       "      <th>is_democrat</th>\n",
       "    </tr>\n",
       "  </thead>\n",
       "  <tbody>\n",
       "    <tr>\n",
       "      <th>0</th>\n",
       "      <td>76452765</td>\n",
       "      <td>On Joe Biden's first day in the Oval Office, h...</td>\n",
       "      <td>R</td>\n",
       "      <td>0</td>\n",
       "      <td>0</td>\n",
       "    </tr>\n",
       "    <tr>\n",
       "      <th>1</th>\n",
       "      <td>76452765</td>\n",
       "      <td>I was sorry to hear of the passing of longtime...</td>\n",
       "      <td>R</td>\n",
       "      <td>0</td>\n",
       "      <td>0</td>\n",
       "    </tr>\n",
       "    <tr>\n",
       "      <th>2</th>\n",
       "      <td>76452765</td>\n",
       "      <td>RT @1819News: U.S. Rep. Robert Aderholt (R-Hal...</td>\n",
       "      <td>R</td>\n",
       "      <td>1</td>\n",
       "      <td>0</td>\n",
       "    </tr>\n",
       "    <tr>\n",
       "      <th>3</th>\n",
       "      <td>76452765</td>\n",
       "      <td>I’m sorry to hear of Anthony’s passing. He fre...</td>\n",
       "      <td>R</td>\n",
       "      <td>0</td>\n",
       "      <td>0</td>\n",
       "    </tr>\n",
       "    <tr>\n",
       "      <th>4</th>\n",
       "      <td>76452765</td>\n",
       "      <td>H.R. 6914 Pregnant Students’ Rights Act: Colle...</td>\n",
       "      <td>R</td>\n",
       "      <td>0</td>\n",
       "      <td>0</td>\n",
       "    </tr>\n",
       "  </tbody>\n",
       "</table>\n",
       "</div>"
      ],
      "text/plain": [
       "    user_id                                              tweet party  \\\n",
       "0  76452765  On Joe Biden's first day in the Oval Office, h...     R   \n",
       "1  76452765  I was sorry to hear of the passing of longtime...     R   \n",
       "2  76452765  RT @1819News: U.S. Rep. Robert Aderholt (R-Hal...     R   \n",
       "3  76452765  I’m sorry to hear of Anthony’s passing. He fre...     R   \n",
       "4  76452765  H.R. 6914 Pregnant Students’ Rights Act: Colle...     R   \n",
       "\n",
       "   is_retweet  is_democrat  \n",
       "0           0            0  \n",
       "1           0            0  \n",
       "2           1            0  \n",
       "3           0            0  \n",
       "4           0            0  "
      ]
     },
     "execution_count": 29,
     "metadata": {},
     "output_type": "execute_result"
    }
   ],
   "source": [
    "# Binarize the Party Column\n",
    "df_cleaned['is_democrat'] = df_cleaned['party'].apply(lambda x: 1 if 'D' in x else 0)\n",
    "print(df_cleaned.shape[0])\n",
    "df_cleaned.head()"
   ]
  },
  {
   "cell_type": "markdown",
   "id": "1cfbaf97-187e-41ad-9f81-62e62e4bf35f",
   "metadata": {
    "id": "1cfbaf97-187e-41ad-9f81-62e62e4bf35f"
   },
   "source": [
    "Now we will extract all of the hashtags in the database"
   ]
  },
  {
   "cell_type": "markdown",
   "id": "8cac10b3-fd45-49b8-b200-ad943bfe58e0",
   "metadata": {
    "id": "8cac10b3-fd45-49b8-b200-ad943bfe58e0"
   },
   "source": [
    "### Extract hashtags for each tweet\n",
    "\n",
    "We will create a new column holding the hashtags, if any, for each tweet.\n",
    "\n",
    "Additionally, we will create a list of all hashtags for democrats and republicans."
   ]
  },
  {
   "cell_type": "code",
   "execution_count": 30,
   "id": "de156e85-3f1c-4258-9823-aa1a18a08c57",
   "metadata": {
    "id": "de156e85-3f1c-4258-9823-aa1a18a08c57",
    "tags": []
   },
   "outputs": [],
   "source": [
    "# Create a new column with the hashtags for each tweet\n",
    "df_cleaned['hashtags'] = None\n",
    "\n",
    "#Iterate over each row in df['Tweets']\n",
    "for index, row in df_cleaned.iterrows():\n",
    "    # Use regex findall to search for all hashtags in each row\n",
    "    hashtags = re.findall(r'#(\\w+)', row['tweet'])\n",
    "    if hashtags:\n",
    "        # Add the hashtags, if any, in the columns 'Hashtags' for each row\n",
    "        df_cleaned.at[index, 'hashtags'] = hashtags\n"
   ]
  },
  {
   "cell_type": "code",
   "execution_count": 31,
   "id": "bbc6d945-f0fa-4360-80d2-a6f54b1d7c29",
   "metadata": {
    "colab": {
     "base_uri": "https://localhost:8080/"
    },
    "id": "bbc6d945-f0fa-4360-80d2-a6f54b1d7c29",
    "outputId": "a11f4b2f-4d46-4bac-e7e8-044cd745bb99",
    "tags": []
   },
   "outputs": [
    {
     "data": {
      "text/plain": [
       "0                                  None\n",
       "1                                  None\n",
       "2                                  None\n",
       "3                                  None\n",
       "4                                  None\n",
       "                     ...               \n",
       "9698                               None\n",
       "9699    [LawEnforcementAppreciationDay]\n",
       "9700                               None\n",
       "9701                               None\n",
       "9702                               None\n",
       "Name: hashtags, Length: 9528, dtype: object"
      ]
     },
     "execution_count": 31,
     "metadata": {},
     "output_type": "execute_result"
    }
   ],
   "source": [
    "# Check results\n",
    "df_cleaned['hashtags']"
   ]
  },
  {
   "cell_type": "code",
   "execution_count": 32,
   "id": "b626dc2a-447e-40ac-9abd-b6c4f318d757",
   "metadata": {
    "id": "b626dc2a-447e-40ac-9abd-b6c4f318d757",
    "tags": []
   },
   "outputs": [],
   "source": [
    "# Create two empty lists to store hashtags\n",
    "republican_hashtags = []\n",
    "democrat_hashtags = []\n",
    "\n",
    "# Loop through each row to add hashtags to list\n",
    "for index, row in df_cleaned.iterrows():\n",
    "    if row['is_democrat'] == 1 and row['hashtags'] is not None:\n",
    "        democrat_hashtags.extend(row['hashtags'])\n",
    "    elif row['hashtags'] is not None:\n",
    "        republican_hashtags.extend(row['hashtags'])"
   ]
  },
  {
   "cell_type": "markdown",
   "id": "72ddb248-f69b-4e50-ada7-61ef6355d090",
   "metadata": {
    "id": "72ddb248-f69b-4e50-ada7-61ef6355d090"
   },
   "source": [
    "##### Visualize the top 10 hashtags for Democrats and Republicans"
   ]
  },
  {
   "cell_type": "code",
   "execution_count": 33,
   "id": "ae3f8a26-2e3c-43cc-9801-90b108d92330",
   "metadata": {
    "colab": {
     "base_uri": "https://localhost:8080/",
     "height": 733
    },
    "id": "ae3f8a26-2e3c-43cc-9801-90b108d92330",
    "outputId": "609fcf82-0756-4dad-8d69-008a572dab6b",
    "tags": []
   },
   "outputs": [
    {
     "data": {
      "text/plain": [
       "(array([0, 1, 2, 3, 4, 5, 6, 7, 8, 9]),\n",
       " [Text(0, 0, 'MLKDay'),\n",
       "  Text(1, 0, 'NationalSchoolChoiceWeek'),\n",
       "  Text(2, 0, 'FL02'),\n",
       "  Text(3, 0, 'Bidenomics'),\n",
       "  Text(4, 0, 'ProLife'),\n",
       "  Text(5, 0, 'WhyWeMarch'),\n",
       "  Text(6, 0, 'NationalMilkDay'),\n",
       "  Text(7, 0, 'SchoolChoiceWeek'),\n",
       "  Text(8, 0, 'MarchForLife'),\n",
       "  Text(9, 0, 'IA04')])"
      ]
     },
     "execution_count": 33,
     "metadata": {},
     "output_type": "execute_result"
    },
    {
     "data": {
      "image/png": "[encoded data removed]",
      "text/plain": [
       "<Figure size 1000x600 with 1 Axes>"
      ]
     },
     "metadata": {},
     "output_type": "display_data"
    }
   ],
   "source": [
    "# Plot the 10 most used hasthags for Republicans\n",
    "\n",
    "# Convert the list of Republican hashtags to a Pandas Series and count occurrences\n",
    "republican_10 = pd.Series(republican_hashtags).value_counts().head(10)\n",
    "custom_red_colors = [\n",
    "    '#8B0000',  # Dark red\n",
    "    '#A52A2A',  # Brown\n",
    "    '#B22222',  # Firebrick\n",
    "    '#DC143C',  # Crimson\n",
    "    '#FF6347',  # Tomato\n",
    "    '#FF4500',  # Orange red\n",
    "    '#FF7F50',  # Coral\n",
    "    '#FFA07A',  # Light salmon\n",
    "    '#FFB6C1',  # Light pink\n",
    "    '#FFC0CB'   # Pink\n",
    "]\n",
    "\n",
    "# plot\n",
    "republican_10.plot(kind='bar', figsize=(10,6), color=custom_red_colors)\n",
    "plt.title('Top 10 Hashtags Used by Republicans')\n",
    "plt.xlabel('Hashtag')\n",
    "plt.ylabel('Count')\n",
    "plt.xticks(rotation = 80)\n"
   ]
  },
  {
   "cell_type": "code",
   "execution_count": 34,
   "id": "940e3ef0-6fdf-4683-b44a-3025b50586b9",
   "metadata": {
    "colab": {
     "base_uri": "https://localhost:8080/",
     "height": 729
    },
    "id": "940e3ef0-6fdf-4683-b44a-3025b50586b9",
    "outputId": "d9064094-cf92-4e55-b866-760bdf78ff6b",
    "tags": []
   },
   "outputs": [
    {
     "data": {
      "text/plain": [
       "(array([0, 1, 2, 3, 4, 5, 6, 7, 8, 9]),\n",
       " [Text(0, 0, 'WIC'),\n",
       "  Text(1, 0, 'FundWIC'),\n",
       "  Text(2, 0, 'RoevWade'),\n",
       "  Text(3, 0, 'MLKDay'),\n",
       "  Text(4, 0, 'GVSurvivorsWeek'),\n",
       "  Text(5, 0, 'RoeVWade'),\n",
       "  Text(6, 0, 'ReproductiveFreedom'),\n",
       "  Text(7, 0, 'IL03'),\n",
       "  Text(8, 0, 'PeopleOverPolitics'),\n",
       "  Text(9, 0, 'ACA')])"
      ]
     },
     "execution_count": 34,
     "metadata": {},
     "output_type": "execute_result"
    },
    {
     "data": {
      "image/png": "[encoded data removed]",
      "text/plain": [
       "<Figure size 1000x600 with 1 Axes>"
      ]
     },
     "metadata": {},
     "output_type": "display_data"
    }
   ],
   "source": [
    "# Plot the 10 most used hasthags for Democrats\n",
    "\n",
    "# Convert the list of Democrat hashtags to a Pandas Series and count occurrences\n",
    "democrat_10 = pd.Series(democrat_hashtags).value_counts().head(10)\n",
    "# Define custome colors to plot\n",
    "custom_blue_colors = [\n",
    "    '#000080',  # Navy\n",
    "    '#00008B',  # Dark blue\n",
    "    '#0000CD',  # Medium blue\n",
    "    '#0000FF',  # Blue\n",
    "    '#4169E1',  # Royal blue\n",
    "    '#6495ED',  # Cornflower blue\n",
    "    '#87CEEB',  # Sky blue\n",
    "    '#ADD8E6',  # Light blue\n",
    "    '#B0E0E6',  # Powder blue\n",
    "    '#CAE1FF'   # Light steel blue\n",
    "]\n",
    "# Plot\n",
    "democrat_10.plot(kind='bar', figsize=(10,6), color=custom_blue_colors)\n",
    "plt.title('Top 10 Hashtags Used by Democrats')\n",
    "plt.xlabel('Hashtag')\n",
    "plt.ylabel('Count')\n",
    "plt.xticks(rotation = 80)"
   ]
  },
  {
   "cell_type": "markdown",
   "id": "986fce50-0b9f-47a7-abf4-ef3668b90f2b",
   "metadata": {
    "id": "986fce50-0b9f-47a7-abf4-ef3668b90f2b"
   },
   "source": [
    "### Word Cloud for Democrat and Republican Hashtags\n",
    "\n",
    "A word cloud is displayed showing the top hashtags from both republican and democrat hashtags. "
   ]
  },
  {
   "cell_type": "code",
   "execution_count": 35,
   "id": "0e05d753-b7e7-4c1f-8711-23f55575257c",
   "metadata": {
    "colab": {
     "base_uri": "https://localhost:8080/"
    },
    "id": "0e05d753-b7e7-4c1f-8711-23f55575257c",
    "outputId": "0533547c-82bd-4646-9879-707edf3777c8",
    "tags": []
   },
   "outputs": [
    {
     "name": "stdout",
     "output_type": "stream",
     "text": [
      "Requirement already satisfied: wordcloud in c:\\users\\erick\\aanaconda3\\lib\\site-packages (1.9.3)\n",
      "Requirement already satisfied: numpy>=1.6.1 in c:\\users\\erick\\aanaconda3\\lib\\site-packages (from wordcloud) (1.24.3)\n",
      "Requirement already satisfied: pillow in c:\\users\\erick\\aanaconda3\\lib\\site-packages (from wordcloud) (10.0.1)\n",
      "Requirement already satisfied: matplotlib in c:\\users\\erick\\aanaconda3\\lib\\site-packages (from wordcloud) (3.7.2)\n",
      "Requirement already satisfied: contourpy>=1.0.1 in c:\\users\\erick\\aanaconda3\\lib\\site-packages (from matplotlib->wordcloud) (1.0.5)\n",
      "Requirement already satisfied: cycler>=0.10 in c:\\users\\erick\\aanaconda3\\lib\\site-packages (from matplotlib->wordcloud) (0.11.0)\n",
      "Requirement already satisfied: fonttools>=4.22.0 in c:\\users\\erick\\aanaconda3\\lib\\site-packages (from matplotlib->wordcloud) (4.25.0)\n",
      "Requirement already satisfied: kiwisolver>=1.0.1 in c:\\users\\erick\\aanaconda3\\lib\\site-packages (from matplotlib->wordcloud) (1.4.4)\n",
      "Requirement already satisfied: packaging>=20.0 in c:\\users\\erick\\appdata\\roaming\\python\\python311\\site-packages (from matplotlib->wordcloud) (23.2)\n",
      "Requirement already satisfied: pyparsing<3.1,>=2.3.1 in c:\\users\\erick\\aanaconda3\\lib\\site-packages (from matplotlib->wordcloud) (3.0.9)\n",
      "Requirement already satisfied: python-dateutil>=2.7 in c:\\users\\erick\\appdata\\roaming\\python\\python311\\site-packages (from matplotlib->wordcloud) (2.8.2)\n",
      "Requirement already satisfied: six>=1.5 in c:\\users\\erick\\appdata\\roaming\\python\\python311\\site-packages (from python-dateutil>=2.7->matplotlib->wordcloud) (1.16.0)\n"
     ]
    },
    {
     "name": "stderr",
     "output_type": "stream",
     "text": [
      "\n",
      "[notice] A new release of pip is available: 23.3.1 -> 24.0\n",
      "[notice] To update, run: python.exe -m pip install --upgrade pip\n"
     ]
    }
   ],
   "source": [
    "# Word Cloud\n",
    "!pip install wordcloud\n",
    "from wordcloud import WordCloud"
   ]
  },
  {
   "cell_type": "code",
   "execution_count": 36,
   "id": "49180c6b-66f8-4554-9629-5437cb736173",
   "metadata": {
    "tags": []
   },
   "outputs": [
    {
     "data": {
      "image/png": "[encoded data removed]",
      "text/plain": [
       "<Figure size 1200x600 with 1 Axes>"
      ]
     },
     "metadata": {},
     "output_type": "display_data"
    }
   ],
   "source": [
    "# Example data\n",
    "democrat_text = \" \".join(democrat_hashtags)\n",
    "republican_text = \" \".join(republican_hashtags)\n",
    "\n",
    "# Function to get word frequencies\n",
    "def get_word_frequencies(text):\n",
    "    words = text.split()\n",
    "    word_freq = {word: words.count(word) for word in set(words)}\n",
    "    return word_freq\n",
    "\n",
    "# Get word frequencies for Democrat and Republican hashtags\n",
    "democrat_word_freq = get_word_frequencies(democrat_text)\n",
    "republican_word_freq = get_word_frequencies(republican_text)\n",
    "\n",
    "# Combine word frequencies\n",
    "combined_word_freq = {word: democrat_word_freq.get(word, 0) + republican_word_freq.get(word, 0) for word in set(list(democrat_word_freq.keys()) + list(republican_word_freq.keys()))}\n",
    "\n",
    "# Generate word cloud with custom coloring function\n",
    "def color_func(word, font_size, position, orientation, random_state=None, **kwargs):\n",
    "    return \"blue\" if word in democrat_word_freq else \"red\"\n",
    "\n",
    "wordcloud = WordCloud(width=1000, height=1000,\n",
    "                      background_color='white',\n",
    "                      max_words=30,\n",
    "                      color_func=color_func\n",
    "                      ).generate_from_frequencies(combined_word_freq)\n",
    "\n",
    "# Plot the word cloud\n",
    "plt.figure(figsize=(12, 6))\n",
    "plt.imshow(wordcloud, interpolation='bilinear')\n",
    "plt.title('Combined Word Cloud')\n",
    "plt.axis('off')\n",
    "plt.show()\n"
   ]
  },
  {
   "cell_type": "markdown",
   "id": "1c2ec3d0-c0c0-41a3-905c-51a66e17b46b",
   "metadata": {},
   "source": [
    "Upon examination, it becomes evident that the majority of frequent hashtags originate from Democrat tweets. This observation might suggest a tendency for Democrats to employ more embellishment when conveying a topic, contrasting with Republicans who appear to express themselves more independently. Additionally, certain hashtags, such as MLKDay, are prevalent in tweets from both parties but are categorized as blue since they appear more frequently in Democrat tweets than in Republican tweets."
   ]
  },
  {
   "cell_type": "code",
   "execution_count": 37,
   "id": "2001e3e2-a9fd-4316-8c8b-5a498ab3d40d",
   "metadata": {
    "colab": {
     "base_uri": "https://localhost:8080/"
    },
    "id": "2001e3e2-a9fd-4316-8c8b-5a498ab3d40d",
    "outputId": "d81ff15c-2140-4b8e-95fa-c7d38fcb6f7c",
    "tags": []
   },
   "outputs": [
    {
     "data": {
      "text/plain": [
       "{'D': '50.21%', 'R': '49.79%'}"
      ]
     },
     "execution_count": 37,
     "metadata": {},
     "output_type": "execute_result"
    }
   ],
   "source": [
    "# Before preprocessing, we want to make sure the distribution of Democratic and Republican is balanced again\n",
    "\n",
    "# Count the occurrences of each party in the 'Party' column\n",
    "parties_counts = df_cleaned['party'].value_counts()\n",
    "\n",
    "# Calculate the total number of occurrences\n",
    "normalized_counts = parties_counts.sum()\n",
    "\n",
    "# Dictionary to store the percentage of tweets for each party\n",
    "tweets_percentage = {}\n",
    "\n",
    "# Calculate the percentage of tweets for each party and store in the dictionary\n",
    "for party, count in parties_counts.items():\n",
    "    tweets_percentage[party] = f\"{count/normalized_counts*100:.2f}%\"\n",
    "\n",
    "# Display the dictionary containing the percentage of tweets for each party\n",
    "tweets_percentage\n"
   ]
  },
  {
   "cell_type": "markdown",
   "id": "9fa4ad96-3cd1-49d8-9280-09aac523edde",
   "metadata": {
    "id": "9fa4ad96-3cd1-49d8-9280-09aac523edde"
   },
   "source": [
    "The distribution is fair enough, it is almost 50/50, se we can continue processing the data"
   ]
  },
  {
   "cell_type": "markdown",
   "id": "aa732f7f-62c6-45a7-9c0e-e5db8efd3cad",
   "metadata": {
    "id": "aa732f7f-62c6-45a7-9c0e-e5db8efd3cad"
   },
   "source": [
    "## 2. Data Cleaning\n"
   ]
  },
  {
   "cell_type": "code",
   "execution_count": 38,
   "id": "57734c52-1d25-4968-a674-a486dc710877",
   "metadata": {
    "colab": {
     "base_uri": "https://localhost:8080/"
    },
    "id": "57734c52-1d25-4968-a674-a486dc710877",
    "outputId": "f1882e68-f6f9-4c00-d683-ec3426dab1dc",
    "tags": []
   },
   "outputs": [],
   "source": [
    "# Import necessary Libraries and Modules\n",
    "import string\n",
    "\n",
    "# SK Packages\n",
    "from sklearn.linear_model import LogisticRegression\n",
    "from sklearn.model_selection import train_test_split\n",
    "\n",
    "## Vectorizers\n",
    "from sklearn.feature_extraction.text import CountVectorizer"
   ]
  },
  {
   "cell_type": "markdown",
   "id": "d0d2af16-0909-40e7-9fe9-3ed9f484d65b",
   "metadata": {
    "id": "d0d2af16-0909-40e7-9fe9-3ed9f484d65b"
   },
   "source": [
    "### Defining Stopwords"
   ]
  },
  {
   "cell_type": "code",
   "execution_count": 39,
   "id": "29813088-f83d-420a-9910-e332cb89c4b2",
   "metadata": {
    "colab": {
     "base_uri": "https://localhost:8080/"
    },
    "id": "29813088-f83d-420a-9910-e332cb89c4b2",
    "outputId": "ae3029c3-28be-4484-96d7-bd4dbc492651",
    "tags": []
   },
   "outputs": [
    {
     "name": "stderr",
     "output_type": "stream",
     "text": [
      "[nltk_data] Downloading package wordnet to\n",
      "[nltk_data]     C:\\Users\\erick\\AppData\\Roaming\\nltk_data...\n",
      "[nltk_data]   Package wordnet is already up-to-date!\n",
      "[nltk_data] Downloading package punkt to\n",
      "[nltk_data]     C:\\Users\\erick\\AppData\\Roaming\\nltk_data...\n",
      "[nltk_data]   Package punkt is already up-to-date!\n",
      "[nltk_data] Downloading package words to\n",
      "[nltk_data]     C:\\Users\\erick\\AppData\\Roaming\\nltk_data...\n",
      "[nltk_data]   Package words is already up-to-date!\n",
      "[nltk_data] Downloading package stopwords to\n",
      "[nltk_data]     C:\\Users\\erick\\AppData\\Roaming\\nltk_data...\n",
      "[nltk_data]   Package stopwords is already up-to-date!\n"
     ]
    },
    {
     "data": {
      "text/plain": [
       "180"
      ]
     },
     "execution_count": 39,
     "metadata": {},
     "output_type": "execute_result"
    }
   ],
   "source": [
    "# NLTK\n",
    "import nltk\n",
    "\n",
    "# Downloads\n",
    "nltk.download('wordnet')\n",
    "nltk.download('punkt')\n",
    "nltk.download('words')\n",
    "nltk.download('stopwords')\n",
    "\n",
    "# Other nltk modules\n",
    "from nltk.corpus import stopwords\n",
    "import nltk as nlp\n",
    "from nltk.stem import WordNetLemmatizer\n",
    "from nltk.tokenize import word_tokenize\n",
    "from nltk.corpus import words\n",
    "\n",
    "import pickle\n",
    "\n",
    "# Define  customized stopwords\n",
    "stopwords = stopwords.words('english')\n",
    "stopwords.extend([\"rt\", \"u\", \"r\", \"amp\", \"w\", \"th\"])  # Add additional stopwords\n",
    "\n",
    "# remove some stopwords\n",
    "stopwords.remove('not')\n",
    "stopwords.remove('against')\n",
    "stopwords.remove(\"don't\")\n",
    "stopwords.remove(\"have\")\n",
    "stopwords.remove(\"won't\")\n",
    "\n",
    "# Save the stopwords list to a pickle file\n",
    "with open(\"custom_stopwords.pkl\", \"wb\") as f:\n",
    "    pickle.dump(stopwords, f)\n",
    "\n",
    "\n",
    "# Print the length of the stopwords\n",
    "len(stopwords)"
   ]
  },
  {
   "cell_type": "markdown",
   "id": "115ef00d-906a-4a91-9370-1a781552c017",
   "metadata": {
    "id": "115ef00d-906a-4a91-9370-1a781552c017"
   },
   "source": [
    "### Tokenization\n",
    "\n",
    "Performed to clean tweets for smoother modelling, classification and sentiment analysis."
   ]
  },
  {
   "cell_type": "code",
   "execution_count": 40,
   "id": "afc1f9fe-aa90-4158-a3b0-b353db02683a",
   "metadata": {
    "tags": []
   },
   "outputs": [
    {
     "name": "stdout",
     "output_type": "stream",
     "text": [
      "['i', 'me', 'my', 'myself', 'we', 'our', 'ours', 'ourselves', 'you', \"you're\", \"you've\", \"you'll\", \"you'd\", 'your', 'yours', 'yourself', 'yourselves', 'he', 'him', 'his', 'himself', 'she', \"she's\", 'her', 'hers', 'herself', 'it', \"it's\", 'its', 'itself', 'they', 'them', 'their', 'theirs', 'themselves', 'what', 'which', 'who', 'whom', 'this', 'that', \"that'll\", 'these', 'those', 'am', 'is', 'are', 'was', 'were', 'be', 'been', 'being', 'has', 'had', 'having', 'do', 'does', 'did', 'doing', 'a', 'an', 'the', 'and', 'but', 'if', 'or', 'because', 'as', 'until', 'while', 'of', 'at', 'by', 'for', 'with', 'about', 'between', 'into', 'through', 'during', 'before', 'after', 'above', 'below', 'to', 'from', 'up', 'down', 'in', 'out', 'on', 'off', 'over', 'under', 'again', 'further', 'then', 'once', 'here', 'there', 'when', 'where', 'why', 'how', 'all', 'any', 'both', 'each', 'few', 'more', 'most', 'other', 'some', 'such', 'no', 'nor', 'only', 'own', 'same', 'so', 'than', 'too', 'very', 's', 't', 'can', 'will', 'just', 'don', 'should', \"should've\", 'now', 'd', 'll', 'm', 'o', 're', 've', 'y', 'ain', 'aren', \"aren't\", 'couldn', \"couldn't\", 'didn', \"didn't\", 'doesn', \"doesn't\", 'hadn', \"hadn't\", 'hasn', \"hasn't\", 'haven', \"haven't\", 'isn', \"isn't\", 'ma', 'mightn', \"mightn't\", 'mustn', \"mustn't\", 'needn', \"needn't\", 'shan', \"shan't\", 'shouldn', \"shouldn't\", 'wasn', \"wasn't\", 'weren', \"weren't\", 'won', 'wouldn', \"wouldn't\", 'rt', 'u', 'r', 'amp', 'w', 'th']\n"
     ]
    }
   ],
   "source": [
    "print(stopwords)"
   ]
  },
  {
   "cell_type": "code",
   "execution_count": 41,
   "id": "df7838f5-c096-463b-9ae3-d8e5ce5942f7",
   "metadata": {
    "id": "df7838f5-c096-463b-9ae3-d8e5ce5942f7",
    "tags": []
   },
   "outputs": [],
   "source": [
    "# save vectorizer\n",
    "import joblib\n",
    "\n",
    "# Create a function to clean the tweets\n",
    "def clean_tweets(tweet):\n",
    "    # Create a lemmatizer\n",
    "    lemmatizer = WordNetLemmatizer()\n",
    "\n",
    "    # Replace \"n't\" with \"not\"\n",
    "    tweet = tweet.replace(\"n't\", \" not\")\n",
    "\n",
    "    # Remove @ sign and all handles\n",
    "    tweet = re.sub(\"@[A-Za-z0-9]+\", \"\", tweet)\n",
    "\n",
    "    # Remove hashtags and words that come together with hashtags\n",
    "    tweet = re.sub(r'#\\w+', '', tweet)\n",
    "\n",
    "    # Remove all punctuation. It also removes hashtags.\n",
    "    tweet = re.sub(\"[!@$%^&*()_+\\|/?,.:;'`’-]+\", \" \", tweet)\n",
    "\n",
    "    # Remove links\n",
    "    tweet = re.sub(r'http\\S+', '', tweet)\n",
    "\n",
    "    # Lowercase all characters\n",
    "    tweet = tweet.lower()\n",
    "\n",
    "    # Remove extra whitespace\n",
    "    tweet = \" \".join(tweet.split())\n",
    "\n",
    "    # Remove stopwords\n",
    "    tweet = ' '.join([word for word in tweet.split() if word.lower() not in stopwords])\n",
    "\n",
    "    # Lemmatization\n",
    "    tokens = nltk.word_tokenize(tweet)\n",
    "    lemmatized_tokens = [lemmatizer.lemmatize(token) for token in tokens]\n",
    "    tweet = \" \".join(lemmatized_tokens)\n",
    "\n",
    "    # Remove three dots from the final word, preserving the word itself\n",
    "    tweet = re.sub(r'(\\S+)\\.{2,}$', r'\\1', tweet)\n",
    "    \n",
    "    return tweet\n",
    "\n",
    "# Save the function to a file\n",
    "joblib.dump(clean_tweets, 'clean_tweets_function.pkl')\n",
    "\n",
    "# Create a new column with the cleaned text for every tweet\n",
    "df_cleaned['clean_tweet'] = df_cleaned['tweet'].map(clean_tweets)"
   ]
  },
  {
   "cell_type": "code",
   "execution_count": 42,
   "id": "6ab36c2f-8b77-43c5-82d6-a37b549a6261",
   "metadata": {
    "colab": {
     "base_uri": "https://localhost:8080/"
    },
    "id": "6ab36c2f-8b77-43c5-82d6-a37b549a6261",
    "outputId": "8e9fd112-4621-4732-b5ce-2f3006aa063a",
    "tags": []
   },
   "outputs": [
    {
     "name": "stdout",
     "output_type": "stream",
     "text": [
      "doj reversal could clear way carroll 1st lawsuit against trump proceed abc news co destipkfij trump proceed 101155027 via wrote questioned bill barr merrick garland judiciary hearing wrong right\n",
      "\n",
      "DOJ reversal could clear way for Carroll's 1st lawsuit against Trump to proceed - ABC News - https://t.co/dEsTIPKFIJ trump-proceed-101155027 via @ABC\n",
      "I wrote and questioned both  Bill Barr and Merrick Garland at judiciary hearings about this .Wrong then, right now. @ejeancarroll\n"
     ]
    }
   ],
   "source": [
    "# Proof check results\n",
    "print(df_cleaned['clean_tweet'][1702])\n",
    "print('')\n",
    "print(df_cleaned['tweet'][1702])"
   ]
  },
  {
   "cell_type": "code",
   "execution_count": 43,
   "id": "ce292858-4415-470f-a007-f4323a3ce964",
   "metadata": {
    "tags": []
   },
   "outputs": [
    {
     "data": {
      "text/html": [
       "<div>\n",
       "<style scoped>\n",
       "    .dataframe tbody tr th:only-of-type {\n",
       "        vertical-align: middle;\n",
       "    }\n",
       "\n",
       "    .dataframe tbody tr th {\n",
       "        vertical-align: top;\n",
       "    }\n",
       "\n",
       "    .dataframe thead th {\n",
       "        text-align: right;\n",
       "    }\n",
       "</style>\n",
       "<table border=\"1\" class=\"dataframe\">\n",
       "  <thead>\n",
       "    <tr style=\"text-align: right;\">\n",
       "      <th></th>\n",
       "      <th>user_id</th>\n",
       "      <th>tweet</th>\n",
       "      <th>party</th>\n",
       "      <th>is_retweet</th>\n",
       "      <th>is_democrat</th>\n",
       "      <th>hashtags</th>\n",
       "      <th>clean_tweet</th>\n",
       "    </tr>\n",
       "  </thead>\n",
       "  <tbody>\n",
       "    <tr>\n",
       "      <th>0</th>\n",
       "      <td>76452765</td>\n",
       "      <td>On Joe Biden's first day in the Oval Office, h...</td>\n",
       "      <td>R</td>\n",
       "      <td>0</td>\n",
       "      <td>0</td>\n",
       "      <td>None</td>\n",
       "      <td>joe biden first day oval office signed legisla...</td>\n",
       "    </tr>\n",
       "    <tr>\n",
       "      <th>1</th>\n",
       "      <td>76452765</td>\n",
       "      <td>I was sorry to hear of the passing of longtime...</td>\n",
       "      <td>R</td>\n",
       "      <td>0</td>\n",
       "      <td>0</td>\n",
       "      <td>None</td>\n",
       "      <td>sorry hear passing longtime caregiver leo lion...</td>\n",
       "    </tr>\n",
       "    <tr>\n",
       "      <th>2</th>\n",
       "      <td>76452765</td>\n",
       "      <td>RT @1819News: U.S. Rep. Robert Aderholt (R-Hal...</td>\n",
       "      <td>R</td>\n",
       "      <td>1</td>\n",
       "      <td>0</td>\n",
       "      <td>None</td>\n",
       "      <td>rep robert aderholt haleyville recently took h...</td>\n",
       "    </tr>\n",
       "    <tr>\n",
       "      <th>3</th>\n",
       "      <td>76452765</td>\n",
       "      <td>I’m sorry to hear of Anthony’s passing. He fre...</td>\n",
       "      <td>R</td>\n",
       "      <td>0</td>\n",
       "      <td>0</td>\n",
       "      <td>None</td>\n",
       "      <td>sorry hear anthony passing frequently interact...</td>\n",
       "    </tr>\n",
       "    <tr>\n",
       "      <th>4</th>\n",
       "      <td>76452765</td>\n",
       "      <td>H.R. 6914 Pregnant Students’ Rights Act: Colle...</td>\n",
       "      <td>R</td>\n",
       "      <td>0</td>\n",
       "      <td>0</td>\n",
       "      <td>None</td>\n",
       "      <td>h 6914 pregnant student right act college univ...</td>\n",
       "    </tr>\n",
       "    <tr>\n",
       "      <th>5</th>\n",
       "      <td>76452765</td>\n",
       "      <td>https://t.co/GlzxP4JHKh</td>\n",
       "      <td>R</td>\n",
       "      <td>0</td>\n",
       "      <td>0</td>\n",
       "      <td>None</td>\n",
       "      <td>co glzxp4jhkh</td>\n",
       "    </tr>\n",
       "    <tr>\n",
       "      <th>6</th>\n",
       "      <td>76452765</td>\n",
       "      <td>Aderholt takes stand for gun owners against 'l...</td>\n",
       "      <td>R</td>\n",
       "      <td>0</td>\n",
       "      <td>0</td>\n",
       "      <td>None</td>\n",
       "      <td>aderholt take stand gun owner against leftwing...</td>\n",
       "    </tr>\n",
       "    <tr>\n",
       "      <th>7</th>\n",
       "      <td>76452765</td>\n",
       "      <td>I am unashamedly Pro-Life. That's why I am pro...</td>\n",
       "      <td>R</td>\n",
       "      <td>0</td>\n",
       "      <td>0</td>\n",
       "      <td>[WhyWeMarch]</td>\n",
       "      <td>unashamedly pro life proud have earned scoreca...</td>\n",
       "    </tr>\n",
       "    <tr>\n",
       "      <th>8</th>\n",
       "      <td>76452765</td>\n",
       "      <td>I was proud to join this amicus brief led by @...</td>\n",
       "      <td>R</td>\n",
       "      <td>0</td>\n",
       "      <td>0</td>\n",
       "      <td>None</td>\n",
       "      <td>proud join amicus brief led gun owner group no...</td>\n",
       "    </tr>\n",
       "    <tr>\n",
       "      <th>9</th>\n",
       "      <td>76452765</td>\n",
       "      <td>@tgregis68 Yes, several to help the states. Be...</td>\n",
       "      <td>R</td>\n",
       "      <td>0</td>\n",
       "      <td>0</td>\n",
       "      <td>None</td>\n",
       "      <td>yes several help state keep mind united state ...</td>\n",
       "    </tr>\n",
       "  </tbody>\n",
       "</table>\n",
       "</div>"
      ],
      "text/plain": [
       "    user_id                                              tweet party  \\\n",
       "0  76452765  On Joe Biden's first day in the Oval Office, h...     R   \n",
       "1  76452765  I was sorry to hear of the passing of longtime...     R   \n",
       "2  76452765  RT @1819News: U.S. Rep. Robert Aderholt (R-Hal...     R   \n",
       "3  76452765  I’m sorry to hear of Anthony’s passing. He fre...     R   \n",
       "4  76452765  H.R. 6914 Pregnant Students’ Rights Act: Colle...     R   \n",
       "5  76452765                            https://t.co/GlzxP4JHKh     R   \n",
       "6  76452765  Aderholt takes stand for gun owners against 'l...     R   \n",
       "7  76452765  I am unashamedly Pro-Life. That's why I am pro...     R   \n",
       "8  76452765  I was proud to join this amicus brief led by @...     R   \n",
       "9  76452765  @tgregis68 Yes, several to help the states. Be...     R   \n",
       "\n",
       "   is_retweet  is_democrat      hashtags  \\\n",
       "0           0            0          None   \n",
       "1           0            0          None   \n",
       "2           1            0          None   \n",
       "3           0            0          None   \n",
       "4           0            0          None   \n",
       "5           0            0          None   \n",
       "6           0            0          None   \n",
       "7           0            0  [WhyWeMarch]   \n",
       "8           0            0          None   \n",
       "9           0            0          None   \n",
       "\n",
       "                                         clean_tweet  \n",
       "0  joe biden first day oval office signed legisla...  \n",
       "1  sorry hear passing longtime caregiver leo lion...  \n",
       "2  rep robert aderholt haleyville recently took h...  \n",
       "3  sorry hear anthony passing frequently interact...  \n",
       "4  h 6914 pregnant student right act college univ...  \n",
       "5                                      co glzxp4jhkh  \n",
       "6  aderholt take stand gun owner against leftwing...  \n",
       "7  unashamedly pro life proud have earned scoreca...  \n",
       "8  proud join amicus brief led gun owner group no...  \n",
       "9  yes several help state keep mind united state ...  "
      ]
     },
     "execution_count": 43,
     "metadata": {},
     "output_type": "execute_result"
    }
   ],
   "source": [
    "# Visualize new columns\n",
    "df_cleaned.head(10)"
   ]
  },
  {
   "cell_type": "markdown",
   "id": "d28f1d66-7412-4297-ade2-59ac2e066f06",
   "metadata": {
    "tags": []
   },
   "source": [
    "In order to prevent the 'clean_tweet' column from containing empty strings after the removal of links, a solution will be applied. The 'clean_tweet' column will be populated with the values of any hashtags if they exist. In cases where no hashtags are present, the corresponding rows will be deleted from the dataset."
   ]
  },
  {
   "cell_type": "code",
   "execution_count": 44,
   "id": "7679cf06-cfe5-43b6-9141-1816e1101310",
   "metadata": {
    "tags": []
   },
   "outputs": [
    {
     "name": "stdout",
     "output_type": "stream",
     "text": [
      "The new dataset should be 9528 - 5 long which is 9523\n"
     ]
    }
   ],
   "source": [
    "# Locate rows where 'clean_tweet' is an empty string and 'hashtags' is None\n",
    "link_tweets_nullhashtags = df_cleaned[(df_cleaned['clean_tweet']=='') & (df_cleaned['hashtags'].isnull())]\n",
    "length1 = len(link_tweets_nullhashtags)\n",
    "length2 = len(df_cleaned)\n",
    "\n",
    "\n",
    "# Drop the rows based on the index\n",
    "df_cleaned = df_cleaned.drop(link_tweets_nullhashtags.index)\n",
    "\n",
    "\n",
    "# Reset the index to maintain a continuous index\n",
    "# Otherwise we will have a dataset with missing indexes (The ones eliminated)\n",
    "df_cleaned = df_cleaned.reset_index(drop=True)\n",
    "\n",
    "# Print the updated DataFrame\n",
    "print(f'The new dataset should be {length2} - {length1} long which is {len(df_cleaned)}')"
   ]
  },
  {
   "cell_type": "code",
   "execution_count": 45,
   "id": "207ced03-9d10-449a-80ba-9ed9d3f46021",
   "metadata": {
    "tags": []
   },
   "outputs": [
    {
     "data": {
      "text/plain": [
       "0"
      ]
     },
     "execution_count": 45,
     "metadata": {},
     "output_type": "execute_result"
    }
   ],
   "source": [
    "# Locate rows where 'clean_tweet' is empty string\n",
    "link_tweets = df_cleaned[df_cleaned['clean_tweet']=='']\n",
    "len(link_tweets)"
   ]
  },
  {
   "cell_type": "code",
   "execution_count": 46,
   "id": "b3ea6383-59a6-45d2-9be9-b6789720ce83",
   "metadata": {
    "tags": []
   },
   "outputs": [
    {
     "data": {
      "text/html": [
       "<div>\n",
       "<style scoped>\n",
       "    .dataframe tbody tr th:only-of-type {\n",
       "        vertical-align: middle;\n",
       "    }\n",
       "\n",
       "    .dataframe tbody tr th {\n",
       "        vertical-align: top;\n",
       "    }\n",
       "\n",
       "    .dataframe thead th {\n",
       "        text-align: right;\n",
       "    }\n",
       "</style>\n",
       "<table border=\"1\" class=\"dataframe\">\n",
       "  <thead>\n",
       "    <tr style=\"text-align: right;\">\n",
       "      <th></th>\n",
       "      <th>user_id</th>\n",
       "      <th>tweet</th>\n",
       "      <th>party</th>\n",
       "      <th>is_retweet</th>\n",
       "      <th>is_democrat</th>\n",
       "      <th>hashtags</th>\n",
       "      <th>clean_tweet</th>\n",
       "    </tr>\n",
       "  </thead>\n",
       "  <tbody>\n",
       "    <tr>\n",
       "      <th>0</th>\n",
       "      <td>76452765</td>\n",
       "      <td>On Joe Biden's first day in the Oval Office, h...</td>\n",
       "      <td>R</td>\n",
       "      <td>0</td>\n",
       "      <td>0</td>\n",
       "      <td>None</td>\n",
       "      <td>joe biden first day oval office signed legisla...</td>\n",
       "    </tr>\n",
       "    <tr>\n",
       "      <th>1</th>\n",
       "      <td>76452765</td>\n",
       "      <td>I was sorry to hear of the passing of longtime...</td>\n",
       "      <td>R</td>\n",
       "      <td>0</td>\n",
       "      <td>0</td>\n",
       "      <td>None</td>\n",
       "      <td>sorry hear passing longtime caregiver leo lion...</td>\n",
       "    </tr>\n",
       "    <tr>\n",
       "      <th>2</th>\n",
       "      <td>76452765</td>\n",
       "      <td>RT @1819News: U.S. Rep. Robert Aderholt (R-Hal...</td>\n",
       "      <td>R</td>\n",
       "      <td>1</td>\n",
       "      <td>0</td>\n",
       "      <td>None</td>\n",
       "      <td>rep robert aderholt haleyville recently took h...</td>\n",
       "    </tr>\n",
       "    <tr>\n",
       "      <th>3</th>\n",
       "      <td>76452765</td>\n",
       "      <td>I’m sorry to hear of Anthony’s passing. He fre...</td>\n",
       "      <td>R</td>\n",
       "      <td>0</td>\n",
       "      <td>0</td>\n",
       "      <td>None</td>\n",
       "      <td>sorry hear anthony passing frequently interact...</td>\n",
       "    </tr>\n",
       "    <tr>\n",
       "      <th>4</th>\n",
       "      <td>76452765</td>\n",
       "      <td>H.R. 6914 Pregnant Students’ Rights Act: Colle...</td>\n",
       "      <td>R</td>\n",
       "      <td>0</td>\n",
       "      <td>0</td>\n",
       "      <td>None</td>\n",
       "      <td>h 6914 pregnant student right act college univ...</td>\n",
       "    </tr>\n",
       "    <tr>\n",
       "      <th>5</th>\n",
       "      <td>76452765</td>\n",
       "      <td>https://t.co/GlzxP4JHKh</td>\n",
       "      <td>R</td>\n",
       "      <td>0</td>\n",
       "      <td>0</td>\n",
       "      <td>None</td>\n",
       "      <td>co glzxp4jhkh</td>\n",
       "    </tr>\n",
       "    <tr>\n",
       "      <th>6</th>\n",
       "      <td>76452765</td>\n",
       "      <td>Aderholt takes stand for gun owners against 'l...</td>\n",
       "      <td>R</td>\n",
       "      <td>0</td>\n",
       "      <td>0</td>\n",
       "      <td>None</td>\n",
       "      <td>aderholt take stand gun owner against leftwing...</td>\n",
       "    </tr>\n",
       "    <tr>\n",
       "      <th>7</th>\n",
       "      <td>76452765</td>\n",
       "      <td>I am unashamedly Pro-Life. That's why I am pro...</td>\n",
       "      <td>R</td>\n",
       "      <td>0</td>\n",
       "      <td>0</td>\n",
       "      <td>[WhyWeMarch]</td>\n",
       "      <td>unashamedly pro life proud have earned scoreca...</td>\n",
       "    </tr>\n",
       "  </tbody>\n",
       "</table>\n",
       "</div>"
      ],
      "text/plain": [
       "    user_id                                              tweet party  \\\n",
       "0  76452765  On Joe Biden's first day in the Oval Office, h...     R   \n",
       "1  76452765  I was sorry to hear of the passing of longtime...     R   \n",
       "2  76452765  RT @1819News: U.S. Rep. Robert Aderholt (R-Hal...     R   \n",
       "3  76452765  I’m sorry to hear of Anthony’s passing. He fre...     R   \n",
       "4  76452765  H.R. 6914 Pregnant Students’ Rights Act: Colle...     R   \n",
       "5  76452765                            https://t.co/GlzxP4JHKh     R   \n",
       "6  76452765  Aderholt takes stand for gun owners against 'l...     R   \n",
       "7  76452765  I am unashamedly Pro-Life. That's why I am pro...     R   \n",
       "\n",
       "   is_retweet  is_democrat      hashtags  \\\n",
       "0           0            0          None   \n",
       "1           0            0          None   \n",
       "2           1            0          None   \n",
       "3           0            0          None   \n",
       "4           0            0          None   \n",
       "5           0            0          None   \n",
       "6           0            0          None   \n",
       "7           0            0  [WhyWeMarch]   \n",
       "\n",
       "                                         clean_tweet  \n",
       "0  joe biden first day oval office signed legisla...  \n",
       "1  sorry hear passing longtime caregiver leo lion...  \n",
       "2  rep robert aderholt haleyville recently took h...  \n",
       "3  sorry hear anthony passing frequently interact...  \n",
       "4  h 6914 pregnant student right act college univ...  \n",
       "5                                      co glzxp4jhkh  \n",
       "6  aderholt take stand gun owner against leftwing...  \n",
       "7  unashamedly pro life proud have earned scoreca...  "
      ]
     },
     "execution_count": 46,
     "metadata": {},
     "output_type": "execute_result"
    }
   ],
   "source": [
    "# Check results\n",
    "# There should be an index 5 with what used to be index 6\n",
    "df_cleaned.head(8)"
   ]
  },
  {
   "cell_type": "markdown",
   "id": "47414539-729d-48f9-acc5-1f61124b4261",
   "metadata": {},
   "source": [
    "For these remaining rows which had links as tweets but also have hashtags, we will give the clean tweet column the value of the hashtags."
   ]
  },
  {
   "cell_type": "code",
   "execution_count": 47,
   "id": "13e4939b-1533-4d42-b7ea-3f2688091417",
   "metadata": {
    "tags": []
   },
   "outputs": [],
   "source": [
    "# Iterate through the indices of tweets containing links\n",
    "for i in link_tweets.index:\n",
    "    # Replace the 'clean_tweet' content with the concatenated hashtags\n",
    "    df_cleaned.at[i,'clean_tweet'] = ' '.join(df_cleaned.at[i, 'hashtags'])\n",
    "    print(df_cleaned.loc[i])"
   ]
  },
  {
   "cell_type": "markdown",
   "id": "bafdc04c-d7b0-421d-bee6-d0e6f2fb3911",
   "metadata": {
    "tags": []
   },
   "source": [
    "We can see that hashtags were saved as the content in the clean_tweet column, however we still want to separate the hashtag into words to make sense of them.\n",
    "\n",
    "Since there are only 9 hashtags, we will do this manually."
   ]
  },
  {
   "cell_type": "code",
   "execution_count": 48,
   "id": "714f97f6-3f58-4f4b-84b5-9e19f2f64585",
   "metadata": {
    "tags": []
   },
   "outputs": [
    {
     "name": "stdout",
     "output_type": "stream",
     "text": [
      "tune in\n",
      "fidelis ad mortem\n",
      "thank you\n",
      "tuesdays with tom\n",
      "tuesdays with tom\n",
      "tuesdays with tom\n",
      "roe vs wade\n",
      "come and cut it\n",
      "stand with israel\n"
     ]
    }
   ],
   "source": [
    "# create a list of all the indexes to edit\n",
    "index_list = [1016, 2304, 2309, 4608, 4616, 4623, 7268, 7531, 9282]\n",
    "\n",
    "clean_hashtags = ['tune in', 'fidelis ad mortem', 'thank you', 'tuesdays with tom', 'tuesdays with tom', 'tuesdays with tom', 'roe vs wade', 'come and cut it', 'stand with israel']\n",
    "\n",
    "# Iterate over the index_list and clean_hashtags simultaneously\n",
    "for i, index in enumerate(index_list):\n",
    "    df_cleaned.at[index, 'clean_tweet'] = clean_hashtags[i]\n",
    "    print(df_cleaned['clean_tweet'].loc[index])\n"
   ]
  },
  {
   "cell_type": "code",
   "execution_count": 69,
   "id": "d5162a4f-8aed-4287-8fd8-f563cc3491ea",
   "metadata": {
    "tags": []
   },
   "outputs": [
    {
     "data": {
      "text/plain": [
       "'unprovoked terrorist attack against israel outrage stand israeli people government dark day must continue support israel right defend'"
      ]
     },
     "execution_count": 69,
     "metadata": {},
     "output_type": "execute_result"
    }
   ],
   "source": [
    "df_cleaned['clean_tweet'].iloc[148]"
   ]
  },
  {
   "cell_type": "markdown",
   "id": "771adcff-2bb9-40e5-a04b-34b17a928f89",
   "metadata": {},
   "source": [
    "We have addressed all null 'clean_tweet' values. We can now save this dataframe and proceed with out modeling"
   ]
  },
  {
   "cell_type": "markdown",
   "id": "98d2a077-0848-46d4-8330-83059a34dd45",
   "metadata": {},
   "source": [
    "### Save new DataFrame"
   ]
  },
  {
   "cell_type": "code",
   "execution_count": 49,
   "id": "5e281b89-d1b3-4ae3-9d5d-49be55324260",
   "metadata": {
    "tags": []
   },
   "outputs": [],
   "source": [
    "# The Dataframe has been saved into a new CSV in case the following steps are rather performed in a separate notebook.\n",
    "df_cleaned.to_csv(\"CleanedRepublicanVsDemocrat.csv\", index=False)"
   ]
  },
  {
   "cell_type": "markdown",
   "id": "0353ec4c-6738-4c40-8aba-7f86ce1fb370",
   "metadata": {},
   "source": [
    "# Project Conclusion\n",
    "\n",
    "In this exploration of political discourse on social media, the objective was to uncover insights into the dynamics of political discussions. Here's a summary of our key findings:\n",
    "\n",
    "### **Data Overview**\n",
    "\n",
    "I independently curated the dataset by personally leveraging the Twitter API V2 for scraping. This hands-on approach ensured meticulous control over the data collection process, allowing for a customized and targeted dataset tailored to the specific requirements of our analysis.\n",
    "\n",
    "The value of this approach lies in the firsthand understanding and insights gained during the data collection. By personally overseeing the scraping process, I acquired in-depth knowledge about potential biases, nuances, and intricacies within the dataset. This level of involvement enhances the credibility and reliability of our findings, as the data is not only relevant to our research questions but also reflects a conscious and informed collection process.\n",
    "\n",
    "The dataset comprised political tweets covering diverse topics and sentiments. Through Exploratory Data Analysis (EDA) and Feature Engineering, we introduced a \"retweets\" column and categorized hashtags into Democrat and Republican lists, providing valuable information for analysis.\n",
    "\n",
    "### **Interpreting Results and Model Use**\n",
    "\n",
    "My analysis revealed interesting patterns in hashtag usage, hinting at potential communication styles.I trained models to predict party affiliation, emphasizing the importance of a diverse training set for optimal performance.\n",
    "\n",
    "### **Vectorizer: Analysis of Top Terms and Hashtags by Party**\n",
    "\n",
    "I delved into top words and hashtags predicting party affiliations, shedding light on distinctive themes within Democrat and Republican tweets.\n"
   ]
  },
  {
   "cell_type": "markdown",
   "id": "a9c981ec-0c6a-48d5-b889-2460d542b780",
   "metadata": {},
   "source": [
    "### Further Steps\n",
    "\n",
    "1. Streamlit\n",
    "2. Time-based Analysis: Analyze sentiment trends over time: Collect timestamp of tweets.\n",
    "3. Topic Modelling"
   ]
  }
 ],
 "metadata": {
  "colab": {
   "provenance": []
  },
  "kernelspec": {
   "display_name": "Python 3 (ipykernel)",
   "language": "python",
   "name": "python3"
  },
  "language_info": {
   "codemirror_mode": {
    "name": "ipython",
    "version": 3
   },
   "file_extension": ".py",
   "mimetype": "text/x-python",
   "name": "python",
   "nbconvert_exporter": "python",
   "pygments_lexer": "ipython3",
   "version": "3.11.5"
  }
 },
 "nbformat": 4,
 "nbformat_minor": 5
}
