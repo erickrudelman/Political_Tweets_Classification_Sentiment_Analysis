{
 "cells": [
  {
   "cell_type": "markdown",
   "id": "2ab52adf-59bc-46c4-908e-e151b0202316",
   "metadata": {},
   "source": [
    "## Query to search first 100 tweets per User ID"
   ]
  },
  {
   "cell_type": "code",
   "execution_count": 2,
   "id": "537e3123-59a8-4d40-a411-7d972ddebdfa",
   "metadata": {
    "tags": []
   },
   "outputs": [],
   "source": [
    "import pandas as pd"
   ]
  },
  {
   "cell_type": "code",
   "execution_count": 3,
   "id": "a3bd6362-8b17-417f-bfdc-9435b41b4830",
   "metadata": {
    "tags": []
   },
   "outputs": [
    {
     "data": {
      "text/html": [
       "<div>\n",
       "<style scoped>\n",
       "    .dataframe tbody tr th:only-of-type {\n",
       "        vertical-align: middle;\n",
       "    }\n",
       "\n",
       "    .dataframe tbody tr th {\n",
       "        vertical-align: top;\n",
       "    }\n",
       "\n",
       "    .dataframe thead th {\n",
       "        text-align: right;\n",
       "    }\n",
       "</style>\n",
       "<table border=\"1\" class=\"dataframe\">\n",
       "  <thead>\n",
       "    <tr style=\"text-align: right;\">\n",
       "      <th></th>\n",
       "      <th>id</th>\n",
       "      <th>name</th>\n",
       "      <th>username</th>\n",
       "      <th>party</th>\n",
       "    </tr>\n",
       "  </thead>\n",
       "  <tbody>\n",
       "    <tr>\n",
       "      <th>0</th>\n",
       "      <td>2916086925</td>\n",
       "      <td>Rep. Alma Adams</td>\n",
       "      <td>RepAdams</td>\n",
       "      <td>D</td>\n",
       "    </tr>\n",
       "    <tr>\n",
       "      <th>1</th>\n",
       "      <td>76452765</td>\n",
       "      <td>Robert Aderholt</td>\n",
       "      <td>Robert_Aderholt</td>\n",
       "      <td>R</td>\n",
       "    </tr>\n",
       "    <tr>\n",
       "      <th>2</th>\n",
       "      <td>3018670151</td>\n",
       "      <td>Rep. Pete Aguilar</td>\n",
       "      <td>RepPeteAguilar</td>\n",
       "      <td>D</td>\n",
       "    </tr>\n",
       "    <tr>\n",
       "      <th>3</th>\n",
       "      <td>1612483604071727104</td>\n",
       "      <td>Mark Alford</td>\n",
       "      <td>RepMarkAlford</td>\n",
       "      <td>R</td>\n",
       "    </tr>\n",
       "    <tr>\n",
       "      <th>4</th>\n",
       "      <td>2964287128</td>\n",
       "      <td>Rick W. Allen</td>\n",
       "      <td>RepRickAllen</td>\n",
       "      <td>R</td>\n",
       "    </tr>\n",
       "  </tbody>\n",
       "</table>\n",
       "</div>"
      ],
      "text/plain": [
       "                    id               name         username party\n",
       "0           2916086925    Rep. Alma Adams         RepAdams     D\n",
       "1             76452765    Robert Aderholt  Robert_Aderholt     R\n",
       "2           3018670151  Rep. Pete Aguilar   RepPeteAguilar     D\n",
       "3  1612483604071727104        Mark Alford    RepMarkAlford     R\n",
       "4           2964287128      Rick W. Allen     RepRickAllen     R"
      ]
     },
     "execution_count": 3,
     "metadata": {},
     "output_type": "execute_result"
    }
   ],
   "source": [
    "df = pd.read_csv('PoliticalUsernames.csv')\n",
    "df.head(5)"
   ]
  },
  {
   "cell_type": "code",
   "execution_count": 7,
   "id": "29038976-8805-4c7a-9986-2f81c8dd224f",
   "metadata": {},
   "outputs": [],
   "source": [
    "import tweepy"
   ]
  },
  {
   "cell_type": "code",
   "execution_count": null,
   "id": "68e25348-9302-410a-abe7-fac3c425b34b",
   "metadata": {},
   "outputs": [],
   "source": [
    "# Replace these with your own credentials\n",
    "bearer_token = "
   ]
  },
  {
   "cell_type": "code",
   "execution_count": 12,
   "id": "4d401f3e-fc81-407e-99b6-330fd43dfc0c",
   "metadata": {
    "tags": []
   },
   "outputs": [],
   "source": [
    "import time\n",
    "import json"
   ]
  },
  {
   "cell_type": "code",
   "execution_count": 27,
   "id": "bce06639-8771-4fbc-a340-a73bc5524a02",
   "metadata": {
    "tags": []
   },
   "outputs": [
    {
     "data": {
      "text/plain": [
       "423"
      ]
     },
     "execution_count": 27,
     "metadata": {},
     "output_type": "execute_result"
    }
   ],
   "source": [
    "# List of user IDs\n",
    "user_ids = df['id'].tolist()\n",
    "\n",
    "#Try with only two Users\n",
    "user_ids = user_ids[3:]\n",
    "len(user_ids)"
   ]
  },
  {
   "cell_type": "code",
   "execution_count": 28,
   "id": "d24ca4d8-8570-482c-acde-36985e2e2e7d",
   "metadata": {
    "tags": []
   },
   "outputs": [
    {
     "name": "stdout",
     "output_type": "stream",
     "text": [
      "Rate limit reached. Retrying in 15 minutes...\n",
      "Rate limit reached. Retrying in 15 minutes...\n",
      "Rate limit reached. Retrying in 15 minutes...\n",
      "Rate limit reached. Retrying in 15 minutes...\n",
      "Rate limit reached. Retrying in 15 minutes...\n",
      "Rate limit reached. Retrying in 15 minutes...\n",
      "Rate limit reached. Retrying in 15 minutes...\n",
      "Rate limit reached. Retrying in 15 minutes...\n",
      "Rate limit reached. Retrying in 15 minutes...\n",
      "Rate limit reached. Retrying in 15 minutes...\n",
      "Rate limit reached. Retrying in 15 minutes...\n",
      "Rate limit reached. Retrying in 15 minutes...\n",
      "Rate limit reached. Retrying in 15 minutes...\n",
      "Rate limit reached. Retrying in 15 minutes...\n",
      "Rate limit reached. Retrying in 15 minutes...\n",
      "Rate limit reached. Retrying in 15 minutes...\n",
      "Rate limit reached. Retrying in 15 minutes...\n",
      "Rate limit reached. Retrying in 15 minutes...\n",
      "Rate limit reached. Retrying in 15 minutes...\n",
      "Rate limit reached. Retrying in 15 minutes...\n",
      "Rate limit reached. Retrying in 15 minutes...\n",
      "Rate limit reached. Retrying in 15 minutes...\n",
      "Rate limit reached. Retrying in 15 minutes...\n",
      "Rate limit reached. Retrying in 15 minutes...\n",
      "Rate limit reached. Retrying in 15 minutes...\n",
      "Rate limit reached. Retrying in 15 minutes...\n",
      "Rate limit reached. Retrying in 15 minutes...\n",
      "Rate limit reached. Retrying in 15 minutes...\n",
      "Rate limit reached. Retrying in 15 minutes...\n",
      "Rate limit reached. Retrying in 15 minutes...\n",
      "Rate limit reached. Retrying in 15 minutes...\n",
      "Rate limit reached. Retrying in 15 minutes...\n",
      "Rate limit reached. Retrying in 15 minutes...\n",
      "Rate limit reached. Retrying in 15 minutes...\n",
      "Rate limit reached. Retrying in 15 minutes...\n",
      "Rate limit reached. Retrying in 15 minutes...\n",
      "Rate limit reached. Retrying in 15 minutes...\n",
      "Rate limit reached. Retrying in 15 minutes...\n",
      "Rate limit reached. Retrying in 15 minutes...\n",
      "Rate limit reached. Retrying in 15 minutes...\n",
      "Rate limit reached. Retrying in 15 minutes...\n",
      "Rate limit reached. Retrying in 15 minutes...\n",
      "Tweets saved to tweets.json\n"
     ]
    }
   ],
   "source": [
    "# get the latest tweet for a user ID, handling errors and rate limits\n",
    "def get_latest_tweet(user_id):\n",
    "    while True:\n",
    "        try:\n",
    "            client = tweepy.Client(bearer_token=bearer_token)\n",
    "            response = client.get_users_tweets(id=user_id, tweet_fields=[\"text\"], max_results=23)\n",
    "            tweets = response.data\n",
    "            if tweets:\n",
    "                return list(tweet.text for tweet in tweets)\n",
    "                # return tweets.text  # Return the first (latest) tweet\n",
    "            else:\n",
    "                return None  # No tweets found\n",
    "        except Exception as e:\n",
    "            if e.response.status_code == 429:  # Rate limit reached\n",
    "                print(\"Rate limit reached. Retrying in 15 minutes...\")\n",
    "                time.sleep(60 * 15)\n",
    "            else:\n",
    "                raise e  # Re-raise other errors\n",
    "\n",
    "# Extract tweets and save to a JSON file\n",
    "all_tweets = []\n",
    "for user_id in user_ids:\n",
    "    tweet = get_latest_tweet(user_id)\n",
    "    if tweet:\n",
    "        all_tweets.append({\"user_id\": user_id, \"tweet\": tweet})\n",
    "\n",
    "with open(\"tweets.json\", \"w\") as f:\n",
    "    json.dump(all_tweets, f, indent=4)\n",
    "\n",
    "print(\"Tweets saved to tweets.json\")"
   ]
  },
  {
   "cell_type": "code",
   "execution_count": null,
   "id": "895a4503-7b9e-4a2e-b361-1263ce3783aa",
   "metadata": {},
   "outputs": [],
   "source": [
    "%pwd"
   ]
  }
 ],
 "metadata": {
  "kernelspec": {
   "display_name": "Python 3 (ipykernel)",
   "language": "python",
   "name": "python3"
  },
  "language_info": {
   "codemirror_mode": {
    "name": "ipython",
    "version": 3
   },
   "file_extension": ".py",
   "mimetype": "text/x-python",
   "name": "python",
   "nbconvert_exporter": "python",
   "pygments_lexer": "ipython3",
   "version": "3.11.5"
  }
 },
 "nbformat": 4,
 "nbformat_minor": 5
}
