{
 "cells": [
  {
   "cell_type": "markdown",
   "id": "d35a0a47-8368-40bc-840d-3bb1273ab30d",
   "metadata": {},
   "source": [
    "## Reading HTML with handles of US Senators\n",
    "\n",
    "This notebook aims to gather the Twitter handles of all U.S. Senators, which will then be incorporated into a dataframe. Subsequently, the handles will be utilized to fetch the corresponding user_ids, as it is the user_id, not the username, that is essential for extracting tweets from each user's timeline.\n",
    "\n",
    "Upon creating a dataset containing the user_ids of each Senator, our primary objective is to extract tweets from their respective accounts and reconstruct the Republican vs. Democrat dataset."
   ]
  },
  {
   "cell_type": "code",
   "execution_count": 1,
   "id": "11c2e384-d5fa-429a-90a9-faea820068a5",
   "metadata": {
    "tags": []
   },
   "outputs": [],
   "source": [
    "#import library\n",
    "import pandas as pd"
   ]
  },
  {
   "cell_type": "code",
   "execution_count": 2,
   "id": "c4a9a5cb-7a0b-4b24-a131-f12cdb48dc5f",
   "metadata": {
    "tags": []
   },
   "outputs": [],
   "source": [
    "# read this webpage with handles from senators\n",
    "members = pd.read_html(\"https://pressgallery.house.gov/member-data/members-official-twitter-handles\")"
   ]
  },
  {
   "cell_type": "code",
   "execution_count": 3,
   "id": "9b739fb6-56cf-43ee-a214-eef3f1489c49",
   "metadata": {
    "tags": []
   },
   "outputs": [
    {
     "data": {
      "text/plain": [
       "list"
      ]
     },
     "execution_count": 3,
     "metadata": {},
     "output_type": "execute_result"
    }
   ],
   "source": [
    "# revise type of variable created\n",
    "type(members)"
   ]
  },
  {
   "cell_type": "markdown",
   "id": "8cec842f-0ace-4b88-a09c-bf2da2d460b6",
   "metadata": {},
   "source": [
    "Since it's a list, it is going to be complicated to deal with. We will have to convert into a DataFrame.\n",
    "\n",
    "1.Save sublists into variables"
   ]
  },
  {
   "cell_type": "code",
   "execution_count": 4,
   "id": "56682929-7257-4a4a-9b15-0777bc60b3ec",
   "metadata": {
    "tags": []
   },
   "outputs": [],
   "source": [
    "# Saving each sublist (which represent a column) into a variable\n",
    "member_name = members[0][0]\n",
    "member_lastname =members[0][1]\n",
    "member_handle =members[0][2]\n",
    "member_party = members[0][4]"
   ]
  },
  {
   "cell_type": "markdown",
   "id": "c1d69dd5-d5e2-4236-a576-f757a572eacd",
   "metadata": {},
   "source": [
    "2. Create a dictionary with variables as values of each columns "
   ]
  },
  {
   "cell_type": "code",
   "execution_count": 5,
   "id": "9baabe6a-82dc-4896-9c53-74b4d6df25af",
   "metadata": {
    "tags": []
   },
   "outputs": [],
   "source": [
    "memb_dict = {'firstname' : member_name, 'last_name' : member_lastname, 'handle': member_handle, 'party': member_party}"
   ]
  },
  {
   "cell_type": "markdown",
   "id": "d00f17b3-8e38-4800-8f19-38d696638c82",
   "metadata": {},
   "source": [
    "3. Convert the dictionary into a DataFrame"
   ]
  },
  {
   "cell_type": "code",
   "execution_count": 6,
   "id": "424b99c3-7744-4101-ae8d-99a1881b9d35",
   "metadata": {
    "tags": []
   },
   "outputs": [
    {
     "data": {
      "text/html": [
       "<div>\n",
       "<style scoped>\n",
       "    .dataframe tbody tr th:only-of-type {\n",
       "        vertical-align: middle;\n",
       "    }\n",
       "\n",
       "    .dataframe tbody tr th {\n",
       "        vertical-align: top;\n",
       "    }\n",
       "\n",
       "    .dataframe thead th {\n",
       "        text-align: right;\n",
       "    }\n",
       "</style>\n",
       "<table border=\"1\" class=\"dataframe\">\n",
       "  <thead>\n",
       "    <tr style=\"text-align: right;\">\n",
       "      <th></th>\n",
       "      <th>firstname</th>\n",
       "      <th>last_name</th>\n",
       "      <th>handle</th>\n",
       "      <th>party</th>\n",
       "    </tr>\n",
       "  </thead>\n",
       "  <tbody>\n",
       "    <tr>\n",
       "      <th>0</th>\n",
       "      <td>Last Updated:</td>\n",
       "      <td>1/22/2024</td>\n",
       "      <td>Subscribe to List: https://twitter.com/i/lists...</td>\n",
       "      <td>Subscribe to List: https://twitter.com/i/lists...</td>\n",
       "    </tr>\n",
       "    <tr>\n",
       "      <th>1</th>\n",
       "      <td>This list is updated as new handles are availa...</td>\n",
       "      <td>This list is updated as new handles are availa...</td>\n",
       "      <td>This list is updated as new handles are availa...</td>\n",
       "      <td>This list is updated as new handles are availa...</td>\n",
       "    </tr>\n",
       "    <tr>\n",
       "      <th>2</th>\n",
       "      <td>FirstName</td>\n",
       "      <td>LastName</td>\n",
       "      <td>Twitter Handle</td>\n",
       "      <td>Party</td>\n",
       "    </tr>\n",
       "    <tr>\n",
       "      <th>3</th>\n",
       "      <td>Alma</td>\n",
       "      <td>Adams</td>\n",
       "      <td>@RepAdams</td>\n",
       "      <td>D</td>\n",
       "    </tr>\n",
       "    <tr>\n",
       "      <th>4</th>\n",
       "      <td>Robert</td>\n",
       "      <td>Aderholt</td>\n",
       "      <td>@Robert_Aderholt</td>\n",
       "      <td>R</td>\n",
       "    </tr>\n",
       "  </tbody>\n",
       "</table>\n",
       "</div>"
      ],
      "text/plain": [
       "                                           firstname  \\\n",
       "0                                      Last Updated:   \n",
       "1  This list is updated as new handles are availa...   \n",
       "2                                          FirstName   \n",
       "3                                               Alma   \n",
       "4                                             Robert   \n",
       "\n",
       "                                           last_name  \\\n",
       "0                                          1/22/2024   \n",
       "1  This list is updated as new handles are availa...   \n",
       "2                                           LastName   \n",
       "3                                              Adams   \n",
       "4                                           Aderholt   \n",
       "\n",
       "                                              handle  \\\n",
       "0  Subscribe to List: https://twitter.com/i/lists...   \n",
       "1  This list is updated as new handles are availa...   \n",
       "2                                     Twitter Handle   \n",
       "3                                          @RepAdams   \n",
       "4                                   @Robert_Aderholt   \n",
       "\n",
       "                                               party  \n",
       "0  Subscribe to List: https://twitter.com/i/lists...  \n",
       "1  This list is updated as new handles are availa...  \n",
       "2                                              Party  \n",
       "3                                                  D  \n",
       "4                                                  R  "
      ]
     },
     "execution_count": 6,
     "metadata": {},
     "output_type": "execute_result"
    }
   ],
   "source": [
    "members_data = pd.DataFrame(memb_dict)\n",
    "members_data.head()"
   ]
  },
  {
   "cell_type": "markdown",
   "id": "7388a84b-91c3-4456-94a9-132e25e5c9a4",
   "metadata": {
    "tags": []
   },
   "source": [
    "4. Clean the members_data2 dataframe since it has an erroneous row"
   ]
  },
  {
   "cell_type": "code",
   "execution_count": 7,
   "id": "9e91c4ac-0b86-496e-b67e-3ecef2f7d2b7",
   "metadata": {
    "tags": []
   },
   "outputs": [],
   "source": [
    "# Delete the first row wich is an error\n",
    "members_data2 = members_data.loc[3::,]"
   ]
  },
  {
   "cell_type": "code",
   "execution_count": 26,
   "id": "d7df2c0f-a645-4855-8dba-9aaddab3922e",
   "metadata": {
    "tags": []
   },
   "outputs": [
    {
     "name": "stderr",
     "output_type": "stream",
     "text": [
      "C:\\Users\\erick\\AppData\\Local\\Temp\\ipykernel_10332\\2700769160.py:2: SettingWithCopyWarning: \n",
      "A value is trying to be set on a copy of a slice from a DataFrame.\n",
      "Try using .loc[row_indexer,col_indexer] = value instead\n",
      "\n",
      "See the caveats in the documentation: https://pandas.pydata.org/pandas-docs/stable/user_guide/indexing.html#returning-a-view-versus-a-copy\n",
      "  members_data2['handle'] = members_data2['handle'].str.lstrip('@')\n"
     ]
    }
   ],
   "source": [
    "# Remove '@' from the 'handle' column\n",
    "members_data2['handle'] = members_data2['handle'].str.lstrip('@')"
   ]
  },
  {
   "cell_type": "code",
   "execution_count": 28,
   "id": "b580dcdf-193a-4c10-b508-962cb1fdb2d5",
   "metadata": {
    "tags": []
   },
   "outputs": [
    {
     "data": {
      "text/html": [
       "<div>\n",
       "<style scoped>\n",
       "    .dataframe tbody tr th:only-of-type {\n",
       "        vertical-align: middle;\n",
       "    }\n",
       "\n",
       "    .dataframe tbody tr th {\n",
       "        vertical-align: top;\n",
       "    }\n",
       "\n",
       "    .dataframe thead th {\n",
       "        text-align: right;\n",
       "    }\n",
       "</style>\n",
       "<table border=\"1\" class=\"dataframe\">\n",
       "  <thead>\n",
       "    <tr style=\"text-align: right;\">\n",
       "      <th></th>\n",
       "      <th>firstname</th>\n",
       "      <th>last_name</th>\n",
       "      <th>handle</th>\n",
       "      <th>party</th>\n",
       "    </tr>\n",
       "  </thead>\n",
       "  <tbody>\n",
       "    <tr>\n",
       "      <th>3</th>\n",
       "      <td>Alma</td>\n",
       "      <td>Adams</td>\n",
       "      <td>RepAdams</td>\n",
       "      <td>D</td>\n",
       "    </tr>\n",
       "    <tr>\n",
       "      <th>4</th>\n",
       "      <td>Robert</td>\n",
       "      <td>Aderholt</td>\n",
       "      <td>Robert_Aderholt</td>\n",
       "      <td>R</td>\n",
       "    </tr>\n",
       "    <tr>\n",
       "      <th>5</th>\n",
       "      <td>Pete</td>\n",
       "      <td>Aguilar</td>\n",
       "      <td>RepPeteAguilar</td>\n",
       "      <td>D</td>\n",
       "    </tr>\n",
       "    <tr>\n",
       "      <th>6</th>\n",
       "      <td>Mark</td>\n",
       "      <td>Alford</td>\n",
       "      <td>RepMarkAlford</td>\n",
       "      <td>R</td>\n",
       "    </tr>\n",
       "    <tr>\n",
       "      <th>7</th>\n",
       "      <td>Rick</td>\n",
       "      <td>Allen</td>\n",
       "      <td>RepRickAllen</td>\n",
       "      <td>R</td>\n",
       "    </tr>\n",
       "  </tbody>\n",
       "</table>\n",
       "</div>"
      ],
      "text/plain": [
       "  firstname last_name           handle party\n",
       "3      Alma     Adams         RepAdams     D\n",
       "4    Robert  Aderholt  Robert_Aderholt     R\n",
       "5      Pete   Aguilar   RepPeteAguilar     D\n",
       "6      Mark    Alford    RepMarkAlford     R\n",
       "7      Rick     Allen     RepRickAllen     R"
      ]
     },
     "execution_count": 28,
     "metadata": {},
     "output_type": "execute_result"
    }
   ],
   "source": [
    "# check results\n",
    "members_data2.head()"
   ]
  },
  {
   "cell_type": "markdown",
   "id": "9c382a41-cb54-4198-8a8d-86ae0b10b5e7",
   "metadata": {},
   "source": [
    "### Saving the Handles column into a list\n",
    "\n",
    "In Twitter, in order to do a Timeline search using the Twitter API v2, one has to search by user_id and not username.\n",
    "\n",
    "For this, we will use the dataframe created above to extract all of the handles into a list. This handles will be cleaned by eliminatin the \" \" and any space after each , since the query requires for usernames to be without the \" \" and with no space after the comas.\n",
    "\n",
    "Also, there is a max amount of handles per query of 100, se we will divide the handles listo into 5 to make 5 queries. The user_id results will the be compiled together.\n",
    "\n",
    "The user_ids will be used to search for tweets on each user's timeline."
   ]
  },
  {
   "cell_type": "code",
   "execution_count": 29,
   "id": "b9d8ac6a-7b66-4a1b-8dd7-de90771d2e5a",
   "metadata": {
    "tags": []
   },
   "outputs": [],
   "source": [
    "# Creating list of handles\n",
    "handles = members[0].loc[3::,2].str.replace(\"@\",\"\").to_list()"
   ]
  },
  {
   "cell_type": "code",
   "execution_count": 30,
   "id": "292e49f1-6de0-4803-99d9-7dbd4cbcf5b9",
   "metadata": {
    "tags": []
   },
   "outputs": [
    {
     "data": {
      "text/plain": [
       "439"
      ]
     },
     "execution_count": 30,
     "metadata": {},
     "output_type": "execute_result"
    }
   ],
   "source": [
    "len(handles)"
   ]
  },
  {
   "cell_type": "markdown",
   "id": "9f368d72-8d92-493a-8daf-b5b551742b7b",
   "metadata": {},
   "source": [
    "### Since Twitter API doesn't allow for more than 100 usernames to be queried, we will divide the list into lists of 99"
   ]
  },
  {
   "cell_type": "code",
   "execution_count": 31,
   "id": "01acc23a-13b6-47e0-b997-981f90322970",
   "metadata": {
    "tags": []
   },
   "outputs": [
    {
     "data": {
      "text/plain": [
       "99"
      ]
     },
     "execution_count": 31,
     "metadata": {},
     "output_type": "execute_result"
    }
   ],
   "source": [
    "handles1 = handles[:99]\n",
    "len(handles1)"
   ]
  },
  {
   "cell_type": "code",
   "execution_count": 32,
   "id": "c18f9d46-f73a-4cbf-a560-d06d80884fa0",
   "metadata": {
    "tags": []
   },
   "outputs": [
    {
     "data": {
      "text/plain": [
       "99"
      ]
     },
     "execution_count": 32,
     "metadata": {},
     "output_type": "execute_result"
    }
   ],
   "source": [
    "handles2 = handles[99:198]\n",
    "len(handles2)"
   ]
  },
  {
   "cell_type": "code",
   "execution_count": 33,
   "id": "5cf47534-01c5-455b-bcd5-b6b8301728db",
   "metadata": {
    "tags": []
   },
   "outputs": [
    {
     "data": {
      "text/plain": [
       "99"
      ]
     },
     "execution_count": 33,
     "metadata": {},
     "output_type": "execute_result"
    }
   ],
   "source": [
    "handles3 = handles[198:297]\n",
    "len(handles3)"
   ]
  },
  {
   "cell_type": "code",
   "execution_count": 34,
   "id": "428cbf79-cb89-4231-a757-42a4c80ef053",
   "metadata": {
    "tags": []
   },
   "outputs": [
    {
     "data": {
      "text/plain": [
       "99"
      ]
     },
     "execution_count": 34,
     "metadata": {},
     "output_type": "execute_result"
    }
   ],
   "source": [
    "handles4 = handles[297:396]\n",
    "len(handles4)"
   ]
  },
  {
   "cell_type": "code",
   "execution_count": 35,
   "id": "c09c2dda-2d63-4fff-a767-913047e564f4",
   "metadata": {
    "tags": []
   },
   "outputs": [
    {
     "data": {
      "text/plain": [
       "43"
      ]
     },
     "execution_count": 35,
     "metadata": {},
     "output_type": "execute_result"
    }
   ],
   "source": [
    "handles5 = handles[396:]\n",
    "len(handles5)"
   ]
  },
  {
   "cell_type": "code",
   "execution_count": 36,
   "id": "55c319b2-ef4b-41ea-84b1-63f1e0017d67",
   "metadata": {
    "tags": []
   },
   "outputs": [
    {
     "data": {
      "text/plain": [
       "439"
      ]
     },
     "execution_count": 36,
     "metadata": {},
     "output_type": "execute_result"
    }
   ],
   "source": [
    "len(handles1)+len(handles2)+len(handles3)+len(handles4)+len(handles5)"
   ]
  },
  {
   "cell_type": "markdown",
   "id": "28c018d6-c666-4407-b89d-2649d02564a8",
   "metadata": {
    "tags": []
   },
   "source": [
    "### Converting to plain text with GPT\n",
    "We will convert each handles list to plain text without the \" \" and without  any spaces after the , .\n",
    "Each plain text will be queried to obtain the User ID from each Username"
   ]
  },
  {
   "cell_type": "code",
   "execution_count": 37,
   "id": "0eb4158f-cfd3-446d-8e62-c2a089109a86",
   "metadata": {
    "tags": []
   },
   "outputs": [
    {
     "data": {
      "text/plain": [
       "['BennieGThompson',\n",
       " 'CongressmanGT',\n",
       " 'RepTiffany',\n",
       " 'RepTimmons',\n",
       " 'repdinatitus',\n",
       " 'RepRashida',\n",
       " 'RepJillTokuda',\n",
       " 'RepPaulTonko',\n",
       " 'NormaJTorres',\n",
       " 'RepRitchie',\n",
       " 'RepLoriTrahan',\n",
       " 'RepDavidTrone',\n",
       " 'RepMikeTurner',\n",
       " 'RepUnderwood',\n",
       " 'RepDavidValadao',\n",
       " 'Congressman_JVD',\n",
       " 'RepBethVanDuyne',\n",
       " 'RepVanOrden',\n",
       " 'RepJuanVargas',\n",
       " 'RepGabeVasquez',\n",
       " 'RepVeasey',\n",
       " 'NydiaVelazquez',\n",
       " 'RepAnnWagner',\n",
       " 'RepWalberg',\n",
       " 'RepWaltzPress',\n",
       " 'RepDWStweets',\n",
       " 'RepMaxineWaters',\n",
       " 'RepBonnie',\n",
       " 'TXRandy14',\n",
       " 'RepWebster',\n",
       " 'RepBradWenstrup',\n",
       " 'RepWesterman',\n",
       " 'RepWexton',\n",
       " 'RepSusanWild',\n",
       " 'RepNikema',\n",
       " 'RepWilliams',\n",
       " 'RepRWilliams',\n",
       " 'RepWilson',\n",
       " 'RepJoeWilson',\n",
       " 'RobWittman',\n",
       " 'rep_stevewomack',\n",
       " 'RepRudyYakym',\n",
       " 'RepRyanZinke']"
      ]
     },
     "execution_count": 37,
     "metadata": {},
     "output_type": "execute_result"
    }
   ],
   "source": [
    "# This line of code is used to extract each handles# list, convert it to plain text in GPT and query it on Postman.\n",
    "handles5"
   ]
  },
  {
   "cell_type": "markdown",
   "id": "ff9287e6-671d-4eba-bc3a-f6174e32cc7d",
   "metadata": {},
   "source": [
    "### Joining JSON files\n",
    "Each query returns a JSON file. The 5 JSON files with the user_id's will be joined into one CSV file"
   ]
  },
  {
   "cell_type": "code",
   "execution_count": 38,
   "id": "22f5b8f4-57ee-46c2-bba5-6820a742d508",
   "metadata": {
    "tags": []
   },
   "outputs": [
    {
     "name": "stdout",
     "output_type": "stream",
     "text": [
      "DataFrame 'complete_handles_dataframe\" created and saved to CSV successfully!\n"
     ]
    }
   ],
   "source": [
    "import json\n",
    "\n",
    "# Load the JSON file\n",
    "file_path = \"handles/complete_handles.json\"  # Replace with the actual path\n",
    "with open(file_path, 'r') as file:\n",
    "    data = json.load(file)\n",
    "\n",
    "# Extract the list of dictionaries from the 'data' key\n",
    "data_list = data.get('data', [])\n",
    "\n",
    "# Create a DataFrame\n",
    "df = pd.DataFrame(data_list, columns=['id', 'name', 'username', 'party'])\n",
    "\n",
    "# Save the DataFrame to a CSV file\n",
    "csv_file_path = \"handles/complete_handles_dataframe.csv\"  # Replace with the desired path\n",
    "df.to_csv(csv_file_path, index=False)\n",
    "\n",
    "print(\"DataFrame \\'complete_handles_dataframe\\\" created and saved to CSV successfully!\")\n"
   ]
  },
  {
   "cell_type": "markdown",
   "id": "3b095a6b-6dc3-4cea-956b-b3d96424bd3f",
   "metadata": {},
   "source": [
    "### This new CSV file will be read into a DatFrame to map the Party with the correct value on the members_data2.csv file created above"
   ]
  },
  {
   "cell_type": "code",
   "execution_count": 39,
   "id": "5c1ba54a-1218-4b1e-90c1-29aaf7ff9df3",
   "metadata": {},
   "outputs": [
    {
     "data": {
      "text/html": [
       "<div>\n",
       "<style scoped>\n",
       "    .dataframe tbody tr th:only-of-type {\n",
       "        vertical-align: middle;\n",
       "    }\n",
       "\n",
       "    .dataframe tbody tr th {\n",
       "        vertical-align: top;\n",
       "    }\n",
       "\n",
       "    .dataframe thead th {\n",
       "        text-align: right;\n",
       "    }\n",
       "</style>\n",
       "<table border=\"1\" class=\"dataframe\">\n",
       "  <thead>\n",
       "    <tr style=\"text-align: right;\">\n",
       "      <th></th>\n",
       "      <th>id</th>\n",
       "      <th>name</th>\n",
       "      <th>username</th>\n",
       "      <th>party</th>\n",
       "    </tr>\n",
       "  </thead>\n",
       "  <tbody>\n",
       "    <tr>\n",
       "      <th>0</th>\n",
       "      <td>2916086925</td>\n",
       "      <td>Rep. Alma Adams</td>\n",
       "      <td>RepAdams</td>\n",
       "      <td>NaN</td>\n",
       "    </tr>\n",
       "    <tr>\n",
       "      <th>1</th>\n",
       "      <td>76452765</td>\n",
       "      <td>Robert Aderholt</td>\n",
       "      <td>Robert_Aderholt</td>\n",
       "      <td>NaN</td>\n",
       "    </tr>\n",
       "    <tr>\n",
       "      <th>2</th>\n",
       "      <td>3018670151</td>\n",
       "      <td>Rep. Pete Aguilar</td>\n",
       "      <td>RepPeteAguilar</td>\n",
       "      <td>NaN</td>\n",
       "    </tr>\n",
       "    <tr>\n",
       "      <th>3</th>\n",
       "      <td>1612483604071727104</td>\n",
       "      <td>Mark Alford</td>\n",
       "      <td>RepMarkAlford</td>\n",
       "      <td>NaN</td>\n",
       "    </tr>\n",
       "    <tr>\n",
       "      <th>4</th>\n",
       "      <td>2964287128</td>\n",
       "      <td>Rick W. Allen</td>\n",
       "      <td>RepRickAllen</td>\n",
       "      <td>NaN</td>\n",
       "    </tr>\n",
       "  </tbody>\n",
       "</table>\n",
       "</div>"
      ],
      "text/plain": [
       "                    id               name         username  party\n",
       "0           2916086925    Rep. Alma Adams         RepAdams    NaN\n",
       "1             76452765    Robert Aderholt  Robert_Aderholt    NaN\n",
       "2           3018670151  Rep. Pete Aguilar   RepPeteAguilar    NaN\n",
       "3  1612483604071727104        Mark Alford    RepMarkAlford    NaN\n",
       "4           2964287128      Rick W. Allen     RepRickAllen    NaN"
      ]
     },
     "execution_count": 39,
     "metadata": {},
     "output_type": "execute_result"
    }
   ],
   "source": [
    "# Read new CSV into a Df\n",
    "df = pd.read_csv('handles/complete_handles_dataframe.csv')\n",
    "df.head()"
   ]
  },
  {
   "cell_type": "markdown",
   "id": "c4b91602-1700-4df4-8808-21a9fe7809fe",
   "metadata": {},
   "source": [
    "Mapping the username on the df DataFrame with the handle in the members_data2 DataFrame to obtain the Party for that user"
   ]
  },
  {
   "cell_type": "code",
   "execution_count": 40,
   "id": "37318a4e-e1b0-4e0a-924b-72d5ea5de1c7",
   "metadata": {
    "tags": []
   },
   "outputs": [],
   "source": [
    "# Iterate through each row in df\n",
    "for i in range(len(df)):\n",
    "    username = df.loc[i, 'username']\n",
    "    matching_row = members_data2[members_data2['handle'] == username]\n",
    "    \n",
    "    if not matching_row.empty:\n",
    "        df.loc[i, 'party'] = matching_row['party'].iloc[0]\n",
    "    else:\n",
    "        # Handle the case where there is no matching row in members_data2\n",
    "        df.loc[i, 'party'] = None  # or any other value indicating no match"
   ]
  },
  {
   "cell_type": "code",
   "execution_count": 41,
   "id": "a5aafd0c-29a5-4b08-af49-ade19b85be4a",
   "metadata": {
    "tags": []
   },
   "outputs": [
    {
     "data": {
      "text/html": [
       "<div>\n",
       "<style scoped>\n",
       "    .dataframe tbody tr th:only-of-type {\n",
       "        vertical-align: middle;\n",
       "    }\n",
       "\n",
       "    .dataframe tbody tr th {\n",
       "        vertical-align: top;\n",
       "    }\n",
       "\n",
       "    .dataframe thead th {\n",
       "        text-align: right;\n",
       "    }\n",
       "</style>\n",
       "<table border=\"1\" class=\"dataframe\">\n",
       "  <thead>\n",
       "    <tr style=\"text-align: right;\">\n",
       "      <th></th>\n",
       "      <th>id</th>\n",
       "      <th>name</th>\n",
       "      <th>username</th>\n",
       "      <th>party</th>\n",
       "    </tr>\n",
       "  </thead>\n",
       "  <tbody>\n",
       "    <tr>\n",
       "      <th>0</th>\n",
       "      <td>2916086925</td>\n",
       "      <td>Rep. Alma Adams</td>\n",
       "      <td>RepAdams</td>\n",
       "      <td>D</td>\n",
       "    </tr>\n",
       "    <tr>\n",
       "      <th>1</th>\n",
       "      <td>76452765</td>\n",
       "      <td>Robert Aderholt</td>\n",
       "      <td>Robert_Aderholt</td>\n",
       "      <td>R</td>\n",
       "    </tr>\n",
       "    <tr>\n",
       "      <th>2</th>\n",
       "      <td>3018670151</td>\n",
       "      <td>Rep. Pete Aguilar</td>\n",
       "      <td>RepPeteAguilar</td>\n",
       "      <td>D</td>\n",
       "    </tr>\n",
       "    <tr>\n",
       "      <th>3</th>\n",
       "      <td>1612483604071727104</td>\n",
       "      <td>Mark Alford</td>\n",
       "      <td>RepMarkAlford</td>\n",
       "      <td>R</td>\n",
       "    </tr>\n",
       "    <tr>\n",
       "      <th>4</th>\n",
       "      <td>2964287128</td>\n",
       "      <td>Rick W. Allen</td>\n",
       "      <td>RepRickAllen</td>\n",
       "      <td>R</td>\n",
       "    </tr>\n",
       "    <tr>\n",
       "      <th>...</th>\n",
       "      <td>...</td>\n",
       "      <td>...</td>\n",
       "      <td>...</td>\n",
       "      <td>...</td>\n",
       "    </tr>\n",
       "    <tr>\n",
       "      <th>421</th>\n",
       "      <td>234014087</td>\n",
       "      <td>Rep. Frederica Wilson</td>\n",
       "      <td>RepWilson</td>\n",
       "      <td>D</td>\n",
       "    </tr>\n",
       "    <tr>\n",
       "      <th>422</th>\n",
       "      <td>254082173</td>\n",
       "      <td>Joe Wilson</td>\n",
       "      <td>RepJoeWilson</td>\n",
       "      <td>R</td>\n",
       "    </tr>\n",
       "    <tr>\n",
       "      <th>423</th>\n",
       "      <td>15356407</td>\n",
       "      <td>Rep. Rob Wittman</td>\n",
       "      <td>RobWittman</td>\n",
       "      <td>R</td>\n",
       "    </tr>\n",
       "    <tr>\n",
       "      <th>424</th>\n",
       "      <td>234469322</td>\n",
       "      <td>Rep. Steve Womack</td>\n",
       "      <td>rep_stevewomack</td>\n",
       "      <td>R</td>\n",
       "    </tr>\n",
       "    <tr>\n",
       "      <th>425</th>\n",
       "      <td>1605665632858607617</td>\n",
       "      <td>Congressman Rudy Yakym</td>\n",
       "      <td>RepRudyYakym</td>\n",
       "      <td>R</td>\n",
       "    </tr>\n",
       "  </tbody>\n",
       "</table>\n",
       "<p>426 rows × 4 columns</p>\n",
       "</div>"
      ],
      "text/plain": [
       "                      id                    name         username party\n",
       "0             2916086925         Rep. Alma Adams         RepAdams     D\n",
       "1               76452765         Robert Aderholt  Robert_Aderholt     R\n",
       "2             3018670151       Rep. Pete Aguilar   RepPeteAguilar     D\n",
       "3    1612483604071727104             Mark Alford    RepMarkAlford     R\n",
       "4             2964287128           Rick W. Allen     RepRickAllen     R\n",
       "..                   ...                     ...              ...   ...\n",
       "421            234014087   Rep. Frederica Wilson        RepWilson     D\n",
       "422            254082173              Joe Wilson     RepJoeWilson     R\n",
       "423             15356407        Rep. Rob Wittman       RobWittman     R\n",
       "424            234469322       Rep. Steve Womack  rep_stevewomack     R\n",
       "425  1605665632858607617  Congressman Rudy Yakym     RepRudyYakym     R\n",
       "\n",
       "[426 rows x 4 columns]"
      ]
     },
     "execution_count": 41,
     "metadata": {},
     "output_type": "execute_result"
    }
   ],
   "source": [
    "#Display Results\n",
    "df"
   ]
  },
  {
   "cell_type": "code",
   "execution_count": 42,
   "id": "4cd2b62d-05a1-4e5b-8e57-1ded59cfe1f8",
   "metadata": {
    "tags": []
   },
   "outputs": [],
   "source": [
    "# Save into a new file\n",
    "df.to_csv('PoliticalUsernamesAndIds.csv', index=False)"
   ]
  },
  {
   "cell_type": "markdown",
   "id": "1f1e2e11-ec31-435a-a254-a7823a27f5c8",
   "metadata": {},
   "source": [
    "### Convert JSON file with all tweets to csv\n",
    "\n",
    "This step is performed after scraping all tweets in the Tweet_extractor.ipynb file and compiling the results inthe json_files.compiler.ipynb file"
   ]
  },
  {
   "cell_type": "code",
   "execution_count": null,
   "id": "a67279ff-a396-43e1-ac8a-1c1b180efbf9",
   "metadata": {
    "tags": []
   },
   "outputs": [],
   "source": [
    "# Load JSON data from a file\n",
    "with open('tweet_dataset/RepublicanVsDemocratNew.json') as json_file:\n",
    "    data = json.load(json_file)\n",
    "\n",
    "# Convert JSON data to a DataFrame\n",
    "df = pd.json_normalize(data)\n",
    "\n",
    "# Export DataFrame to a CSV file\n",
    "df.to_csv('RepublicanVsDemocrat.csv', index=False)"
   ]
  },
  {
   "cell_type": "code",
   "execution_count": null,
   "id": "0ad78b81-96d3-441c-abd1-b98329778dc8",
   "metadata": {
    "tags": []
   },
   "outputs": [],
   "source": [
    "# read into a df to check results\n",
    "repvsdem = pd.read_csv('RepublicanVsDemocrat.csv')\n",
    "\n",
    "repvsdem.head()\n",
    "print(len(repvsdem))"
   ]
  },
  {
   "cell_type": "markdown",
   "id": "b933d078-faf9-45bb-867e-6867891f769d",
   "metadata": {},
   "source": [
    "We can see it is now saved into a csv file successfully. The only detail is that there is only one row for each username, and all tweets per username are saved into a list. We will address this on the erick_rudelman_capstone.ipynb file"
   ]
  },
  {
   "cell_type": "markdown",
   "id": "d84b02e0-569d-4faa-981a-90da86aa594f",
   "metadata": {},
   "source": [
    "### Conclusion\n",
    "\n",
    "We have successfully generated a dataframe containing the required user_id information for extracting tweets from the timelines of all U.S. senators. Additionally, the \"PoliticalUsernamesAndIds.csv\" file correlates the Party affiliation values to each senator using the members_data2 dataframe, which was created from the list of U.S. Senator handles obtained from https://pressgallery.house.gov/member-data/members-official-twitter-handles.\n",
    "\n",
    "The tweet extractor code will be executed on the 'Tweet_extracot.ipynb' file."
   ]
  }
 ],
 "metadata": {
  "kernelspec": {
   "display_name": "Python 3 (ipykernel)",
   "language": "python",
   "name": "python3"
  },
  "language_info": {
   "codemirror_mode": {
    "name": "ipython",
    "version": 3
   },
   "file_extension": ".py",
   "mimetype": "text/x-python",
   "name": "python",
   "nbconvert_exporter": "python",
   "pygments_lexer": "ipython3",
   "version": "3.11.5"
  }
 },
 "nbformat": 4,
 "nbformat_minor": 5
}
